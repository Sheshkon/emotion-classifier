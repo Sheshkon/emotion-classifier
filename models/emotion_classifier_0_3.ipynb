{
  "nbformat": 4,
  "nbformat_minor": 0,
  "metadata": {
    "colab": {
      "provenance": []
    },
    "kernelspec": {
      "name": "python3",
      "display_name": "Python 3"
    },
    "language_info": {
      "name": "python"
    },
    "accelerator": "GPU",
    "gpuClass": "standard"
  },
  "cells": [
    {
      "cell_type": "code",
      "execution_count": 1,
      "metadata": {
        "colab": {
          "base_uri": "https://localhost:8080/"
        },
        "id": "XLs3xGlGuZuI",
        "outputId": "a1e0c8e0-f64d-4611-81bb-1b2888837f3f"
      },
      "outputs": [
        {
          "output_type": "stream",
          "name": "stdout",
          "text": [
            "Mounted at /content/gdrive/\n"
          ]
        }
      ],
      "source": [
        "from google.colab import drive\n",
        "\n",
        "drive.mount('/content/gdrive/')"
      ]
    },
    {
      "cell_type": "code",
      "source": [
        "!unzip \"gdrive/MyDrive/datasets/challenges-in-representation-learning-facial-expression-recognition-challenge.zip\" -d 'datasets'"
      ],
      "metadata": {
        "colab": {
          "base_uri": "https://localhost:8080/"
        },
        "id": "YChaEdmSucNl",
        "outputId": "a0978588-755c-49bf-b1de-cc3fb627edaa"
      },
      "execution_count": 2,
      "outputs": [
        {
          "output_type": "stream",
          "name": "stdout",
          "text": [
            "Archive:  gdrive/MyDrive/datasets/challenges-in-representation-learning-facial-expression-recognition-challenge.zip\n",
            "  inflating: datasets/example_submission.csv  \n",
            "  inflating: datasets/fer2013.tar.gz  \n",
            "  inflating: datasets/icml_face_data.csv  \n",
            "  inflating: datasets/test.csv       \n",
            "  inflating: datasets/train.csv      \n"
          ]
        }
      ]
    },
    {
      "cell_type": "code",
      "source": [
        "import pandas as pd\n",
        "import numpy as np\n",
        "\n",
        "import seaborn as sns\n",
        "import matplotlib.pyplot as plt\n",
        "\n",
        "from typing import Tuple\n",
        "\n",
        "from tensorflow.keras.preprocessing.image import ImageDataGenerator\n",
        "import tensorflow.keras as keras\n",
        "\n",
        "from tensorflow.keras import layers\n",
        "from tensorflow.keras.models import Model, Sequential\n",
        "from tensorflow.keras.optimizers import Adam\n",
        "\n",
        "from tensorflow.keras.utils import plot_model\n",
        "\n",
        "!pip install git+https://github.com/tensorflow/docs\n",
        "\n",
        "from tensorflow.keras.callbacks import EarlyStopping, ModelCheckpoint, ReduceLROnPlateau\n",
        "import tensorflow_docs as tfdocs\n",
        "import tensorflow_docs.modeling\n",
        "import tensorflow_docs.plots\n",
        "\n",
        "!pip install mlxtend --upgrade --no-deps\n",
        "import mlxtend                                                      \n",
        "print(mlxtend.__version__) \n",
        "\n",
        "from mlxtend.plotting import plot_confusion_matrix\n",
        "from sklearn.metrics import confusion_matrix\n",
        "\n",
        "from sklearn.utils.class_weight import compute_class_weight\n",
        "from sklearn.preprocessing import LabelEncoder\n",
        "\n",
        "from keras.layers import Dense, Dropout, Activation, Flatten\n",
        "from keras.layers import Conv2D, MaxPooling2D, BatchNormalization"
      ],
      "metadata": {
        "colab": {
          "base_uri": "https://localhost:8080/"
        },
        "id": "mCbUYoW3uh4e",
        "outputId": "75e0dfe5-fbe6-496f-9d67-a7989c045b3f"
      },
      "execution_count": 3,
      "outputs": [
        {
          "output_type": "stream",
          "name": "stdout",
          "text": [
            "Looking in indexes: https://pypi.org/simple, https://us-python.pkg.dev/colab-wheels/public/simple/\n",
            "Collecting git+https://github.com/tensorflow/docs\n",
            "  Cloning https://github.com/tensorflow/docs to /tmp/pip-req-build-d6pm_pp5\n",
            "  Running command git clone --filter=blob:none --quiet https://github.com/tensorflow/docs /tmp/pip-req-build-d6pm_pp5\n",
            "  Resolved https://github.com/tensorflow/docs to commit c1510dc5ad73aa829249822798e6263360b0f62a\n",
            "  Preparing metadata (setup.py) ... \u001b[?25l\u001b[?25hdone\n",
            "Requirement already satisfied: astor in /usr/local/lib/python3.8/dist-packages (from tensorflow-docs==0.0.0.dev0) (0.8.1)\n",
            "Requirement already satisfied: absl-py in /usr/local/lib/python3.8/dist-packages (from tensorflow-docs==0.0.0.dev0) (1.4.0)\n",
            "Requirement already satisfied: jinja2 in /usr/local/lib/python3.8/dist-packages (from tensorflow-docs==0.0.0.dev0) (2.11.3)\n",
            "Requirement already satisfied: nbformat in /usr/local/lib/python3.8/dist-packages (from tensorflow-docs==0.0.0.dev0) (5.7.3)\n",
            "Requirement already satisfied: protobuf<3.20,>=3.12.0 in /usr/local/lib/python3.8/dist-packages (from tensorflow-docs==0.0.0.dev0) (3.19.6)\n",
            "Requirement already satisfied: pyyaml in /usr/local/lib/python3.8/dist-packages (from tensorflow-docs==0.0.0.dev0) (6.0)\n",
            "Requirement already satisfied: MarkupSafe>=0.23 in /usr/local/lib/python3.8/dist-packages (from jinja2->tensorflow-docs==0.0.0.dev0) (2.0.1)\n",
            "Requirement already satisfied: jsonschema>=2.6 in /usr/local/lib/python3.8/dist-packages (from nbformat->tensorflow-docs==0.0.0.dev0) (4.3.3)\n",
            "Requirement already satisfied: fastjsonschema in /usr/local/lib/python3.8/dist-packages (from nbformat->tensorflow-docs==0.0.0.dev0) (2.16.2)\n",
            "Requirement already satisfied: jupyter-core in /usr/local/lib/python3.8/dist-packages (from nbformat->tensorflow-docs==0.0.0.dev0) (5.2.0)\n",
            "Requirement already satisfied: traitlets>=5.1 in /usr/local/lib/python3.8/dist-packages (from nbformat->tensorflow-docs==0.0.0.dev0) (5.7.1)\n",
            "Requirement already satisfied: pyrsistent!=0.17.0,!=0.17.1,!=0.17.2,>=0.14.0 in /usr/local/lib/python3.8/dist-packages (from jsonschema>=2.6->nbformat->tensorflow-docs==0.0.0.dev0) (0.19.3)\n",
            "Requirement already satisfied: attrs>=17.4.0 in /usr/local/lib/python3.8/dist-packages (from jsonschema>=2.6->nbformat->tensorflow-docs==0.0.0.dev0) (22.2.0)\n",
            "Requirement already satisfied: importlib-resources>=1.4.0 in /usr/local/lib/python3.8/dist-packages (from jsonschema>=2.6->nbformat->tensorflow-docs==0.0.0.dev0) (5.10.2)\n",
            "Requirement already satisfied: platformdirs>=2.5 in /usr/local/lib/python3.8/dist-packages (from jupyter-core->nbformat->tensorflow-docs==0.0.0.dev0) (3.0.0)\n",
            "Requirement already satisfied: zipp>=3.1.0 in /usr/local/lib/python3.8/dist-packages (from importlib-resources>=1.4.0->jsonschema>=2.6->nbformat->tensorflow-docs==0.0.0.dev0) (3.12.1)\n",
            "Building wheels for collected packages: tensorflow-docs\n",
            "  Building wheel for tensorflow-docs (setup.py) ... \u001b[?25l\u001b[?25hdone\n",
            "  Created wheel for tensorflow-docs: filename=tensorflow_docs-0.0.0.dev0-py3-none-any.whl size=180353 sha256=56148508e26e8af6340d369da8b8f18d3b2f8abf26359757a9e5af2982e43d3d\n",
            "  Stored in directory: /tmp/pip-ephem-wheel-cache-shz_jlgx/wheels/3b/ee/a2/ab4d36a9a4af495bcb936f3e849d4b497b65fa40548a68d6c3\n",
            "Successfully built tensorflow-docs\n",
            "Installing collected packages: tensorflow-docs\n",
            "Successfully installed tensorflow-docs-0.0.0.dev0\n",
            "Looking in indexes: https://pypi.org/simple, https://us-python.pkg.dev/colab-wheels/public/simple/\n",
            "Requirement already satisfied: mlxtend in /usr/local/lib/python3.8/dist-packages (0.14.0)\n",
            "Collecting mlxtend\n",
            "  Downloading mlxtend-0.21.0-py2.py3-none-any.whl (1.3 MB)\n",
            "\u001b[2K     \u001b[90m━━━━━━━━━━━━━━━━━━━━━━━━━━━━━━━━━━━━━━━━\u001b[0m \u001b[32m1.3/1.3 MB\u001b[0m \u001b[31m51.1 MB/s\u001b[0m eta \u001b[36m0:00:00\u001b[0m\n",
            "\u001b[?25hInstalling collected packages: mlxtend\n",
            "  Attempting uninstall: mlxtend\n",
            "    Found existing installation: mlxtend 0.14.0\n",
            "    Uninstalling mlxtend-0.14.0:\n",
            "      Successfully uninstalled mlxtend-0.14.0\n",
            "Successfully installed mlxtend-0.21.0\n",
            "0.21.0\n"
          ]
        }
      ]
    },
    {
      "cell_type": "code",
      "source": [
        "root_dir = '/content/datasets/'\n",
        "full_data_file_name = 'icml_face_data.csv'\n",
        "train_data_file_name = 'train.csv'\n",
        "test_data_file_name = 'test.csv'"
      ],
      "metadata": {
        "id": "9ifrVe7OunW7"
      },
      "execution_count": 10,
      "outputs": []
    },
    {
      "cell_type": "code",
      "source": [
        "df = pd.read_csv(root_dir + full_data_file_name)\n",
        "df.columns = ('emotion', 'Usage', 'pixels')\n",
        "df.head()"
      ],
      "metadata": {
        "colab": {
          "base_uri": "https://localhost:8080/",
          "height": 206
        },
        "id": "WLV6CRGBuoJE",
        "outputId": "4368bf18-b20e-47b7-e2b0-da49aed4962b"
      },
      "execution_count": 11,
      "outputs": [
        {
          "output_type": "execute_result",
          "data": {
            "text/plain": [
              "   emotion     Usage                                             pixels\n",
              "0        0  Training  70 80 82 72 58 58 60 63 54 58 60 48 89 115 121...\n",
              "1        0  Training  151 150 147 155 148 133 111 140 170 174 182 15...\n",
              "2        2  Training  231 212 156 164 174 138 161 173 182 200 106 38...\n",
              "3        4  Training  24 32 36 30 32 23 19 20 30 41 21 22 32 34 21 1...\n",
              "4        6  Training  4 0 0 0 0 0 0 0 0 0 0 0 3 15 23 28 48 50 58 84..."
            ],
            "text/html": [
              "\n",
              "  <div id=\"df-05fc3ef5-850f-4cc5-8acf-67bc9b8e7cef\">\n",
              "    <div class=\"colab-df-container\">\n",
              "      <div>\n",
              "<style scoped>\n",
              "    .dataframe tbody tr th:only-of-type {\n",
              "        vertical-align: middle;\n",
              "    }\n",
              "\n",
              "    .dataframe tbody tr th {\n",
              "        vertical-align: top;\n",
              "    }\n",
              "\n",
              "    .dataframe thead th {\n",
              "        text-align: right;\n",
              "    }\n",
              "</style>\n",
              "<table border=\"1\" class=\"dataframe\">\n",
              "  <thead>\n",
              "    <tr style=\"text-align: right;\">\n",
              "      <th></th>\n",
              "      <th>emotion</th>\n",
              "      <th>Usage</th>\n",
              "      <th>pixels</th>\n",
              "    </tr>\n",
              "  </thead>\n",
              "  <tbody>\n",
              "    <tr>\n",
              "      <th>0</th>\n",
              "      <td>0</td>\n",
              "      <td>Training</td>\n",
              "      <td>70 80 82 72 58 58 60 63 54 58 60 48 89 115 121...</td>\n",
              "    </tr>\n",
              "    <tr>\n",
              "      <th>1</th>\n",
              "      <td>0</td>\n",
              "      <td>Training</td>\n",
              "      <td>151 150 147 155 148 133 111 140 170 174 182 15...</td>\n",
              "    </tr>\n",
              "    <tr>\n",
              "      <th>2</th>\n",
              "      <td>2</td>\n",
              "      <td>Training</td>\n",
              "      <td>231 212 156 164 174 138 161 173 182 200 106 38...</td>\n",
              "    </tr>\n",
              "    <tr>\n",
              "      <th>3</th>\n",
              "      <td>4</td>\n",
              "      <td>Training</td>\n",
              "      <td>24 32 36 30 32 23 19 20 30 41 21 22 32 34 21 1...</td>\n",
              "    </tr>\n",
              "    <tr>\n",
              "      <th>4</th>\n",
              "      <td>6</td>\n",
              "      <td>Training</td>\n",
              "      <td>4 0 0 0 0 0 0 0 0 0 0 0 3 15 23 28 48 50 58 84...</td>\n",
              "    </tr>\n",
              "  </tbody>\n",
              "</table>\n",
              "</div>\n",
              "      <button class=\"colab-df-convert\" onclick=\"convertToInteractive('df-05fc3ef5-850f-4cc5-8acf-67bc9b8e7cef')\"\n",
              "              title=\"Convert this dataframe to an interactive table.\"\n",
              "              style=\"display:none;\">\n",
              "        \n",
              "  <svg xmlns=\"http://www.w3.org/2000/svg\" height=\"24px\"viewBox=\"0 0 24 24\"\n",
              "       width=\"24px\">\n",
              "    <path d=\"M0 0h24v24H0V0z\" fill=\"none\"/>\n",
              "    <path d=\"M18.56 5.44l.94 2.06.94-2.06 2.06-.94-2.06-.94-.94-2.06-.94 2.06-2.06.94zm-11 1L8.5 8.5l.94-2.06 2.06-.94-2.06-.94L8.5 2.5l-.94 2.06-2.06.94zm10 10l.94 2.06.94-2.06 2.06-.94-2.06-.94-.94-2.06-.94 2.06-2.06.94z\"/><path d=\"M17.41 7.96l-1.37-1.37c-.4-.4-.92-.59-1.43-.59-.52 0-1.04.2-1.43.59L10.3 9.45l-7.72 7.72c-.78.78-.78 2.05 0 2.83L4 21.41c.39.39.9.59 1.41.59.51 0 1.02-.2 1.41-.59l7.78-7.78 2.81-2.81c.8-.78.8-2.07 0-2.86zM5.41 20L4 18.59l7.72-7.72 1.47 1.35L5.41 20z\"/>\n",
              "  </svg>\n",
              "      </button>\n",
              "      \n",
              "  <style>\n",
              "    .colab-df-container {\n",
              "      display:flex;\n",
              "      flex-wrap:wrap;\n",
              "      gap: 12px;\n",
              "    }\n",
              "\n",
              "    .colab-df-convert {\n",
              "      background-color: #E8F0FE;\n",
              "      border: none;\n",
              "      border-radius: 50%;\n",
              "      cursor: pointer;\n",
              "      display: none;\n",
              "      fill: #1967D2;\n",
              "      height: 32px;\n",
              "      padding: 0 0 0 0;\n",
              "      width: 32px;\n",
              "    }\n",
              "\n",
              "    .colab-df-convert:hover {\n",
              "      background-color: #E2EBFA;\n",
              "      box-shadow: 0px 1px 2px rgba(60, 64, 67, 0.3), 0px 1px 3px 1px rgba(60, 64, 67, 0.15);\n",
              "      fill: #174EA6;\n",
              "    }\n",
              "\n",
              "    [theme=dark] .colab-df-convert {\n",
              "      background-color: #3B4455;\n",
              "      fill: #D2E3FC;\n",
              "    }\n",
              "\n",
              "    [theme=dark] .colab-df-convert:hover {\n",
              "      background-color: #434B5C;\n",
              "      box-shadow: 0px 1px 3px 1px rgba(0, 0, 0, 0.15);\n",
              "      filter: drop-shadow(0px 1px 2px rgba(0, 0, 0, 0.3));\n",
              "      fill: #FFFFFF;\n",
              "    }\n",
              "  </style>\n",
              "\n",
              "      <script>\n",
              "        const buttonEl =\n",
              "          document.querySelector('#df-05fc3ef5-850f-4cc5-8acf-67bc9b8e7cef button.colab-df-convert');\n",
              "        buttonEl.style.display =\n",
              "          google.colab.kernel.accessAllowed ? 'block' : 'none';\n",
              "\n",
              "        async function convertToInteractive(key) {\n",
              "          const element = document.querySelector('#df-05fc3ef5-850f-4cc5-8acf-67bc9b8e7cef');\n",
              "          const dataTable =\n",
              "            await google.colab.kernel.invokeFunction('convertToInteractive',\n",
              "                                                     [key], {});\n",
              "          if (!dataTable) return;\n",
              "\n",
              "          const docLinkHtml = 'Like what you see? Visit the ' +\n",
              "            '<a target=\"_blank\" href=https://colab.research.google.com/notebooks/data_table.ipynb>data table notebook</a>'\n",
              "            + ' to learn more about interactive tables.';\n",
              "          element.innerHTML = '';\n",
              "          dataTable['output_type'] = 'display_data';\n",
              "          await google.colab.output.renderOutput(dataTable, element);\n",
              "          const docLink = document.createElement('div');\n",
              "          docLink.innerHTML = docLinkHtml;\n",
              "          element.appendChild(docLink);\n",
              "        }\n",
              "      </script>\n",
              "    </div>\n",
              "  </div>\n",
              "  "
            ]
          },
          "metadata": {},
          "execution_count": 11
        }
      ]
    },
    {
      "cell_type": "code",
      "source": [
        "#split data into training, validation and test set\n",
        "data_train = df[df['Usage']=='Training'].copy()\n",
        "data_val   = df[df['Usage']=='PublicTest'].copy()\n",
        "data_test  = df[df['Usage']=='PrivateTest'].copy()\n",
        "print(\"train shape: {}, \\nvalidation shape: {}, \\ntest shape: {}\".format(data_train.shape, data_val.shape, data_test.shape))"
      ],
      "metadata": {
        "colab": {
          "base_uri": "https://localhost:8080/"
        },
        "id": "oEWzmncQusOz",
        "outputId": "c77db178-52a9-4ede-f6c2-7e018e1c1898"
      },
      "execution_count": 12,
      "outputs": [
        {
          "output_type": "stream",
          "name": "stdout",
          "text": [
            "train shape: (28709, 3), \n",
            "validation shape: (3589, 3), \n",
            "test shape: (3589, 3)\n"
          ]
        }
      ]
    },
    {
      "cell_type": "code",
      "source": [
        "num_classes = 7 \n",
        "width, height = 48, 48\n",
        "num_epochs = 50\n",
        "batch_size = 64\n",
        "num_features = 64"
      ],
      "metadata": {
        "id": "MjAugB5quyLm"
      },
      "execution_count": 13,
      "outputs": []
    },
    {
      "cell_type": "code",
      "source": [
        "# CRNO stands for Convert, Reshape, Normalize, One-hot encoding\n",
        "# (i) convert strings to lists of integers\n",
        "# (ii) reshape and normalise grayscale image with 255.0\n",
        "# (iii) one-hot encoding label, e.g. class 3 to [0,0,0,1,0,0,0]\n",
        "\n",
        "def CRNO(df, dataName):\n",
        "    df['pixels'] = df['pixels'].apply(lambda pixel_sequence: [int(pixel) for pixel in pixel_sequence.split()])\n",
        "    data_X = np.array(df['pixels'].tolist(), dtype='float32').reshape(-1,width, height,1)/255.0   \n",
        "    data_Y = keras.utils.to_categorical(df['emotion'], num_classes)  \n",
        "    print(dataName, \"_X shape: {}, \", dataName, \"_Y shape: {}\".format(data_X.shape, data_Y.shape))\n",
        "    return data_X, data_Y\n",
        "\n",
        "    \n",
        "train_X, train_Y = CRNO(data_train, \"train\") #training data\n",
        "val_X, val_Y     = CRNO(data_val, \"val\") #validation data\n",
        "test_X, test_Y   = CRNO(data_test, \"test\") #test data"
      ],
      "metadata": {
        "colab": {
          "base_uri": "https://localhost:8080/"
        },
        "id": "oFSpAeASuvcq",
        "outputId": "4bde09c1-9820-4197-be8d-9789a41229a7"
      },
      "execution_count": 14,
      "outputs": [
        {
          "output_type": "stream",
          "name": "stdout",
          "text": [
            "train _X shape: {},  train _Y shape: (28709, 48, 48, 1)\n",
            "val _X shape: {},  val _Y shape: (3589, 48, 48, 1)\n",
            "test _X shape: {},  test _Y shape: (3589, 48, 48, 1)\n"
          ]
        }
      ]
    },
    {
      "cell_type": "code",
      "source": [
        "inputs = keras.Input(shape=(48, 48, 1), name=\"img\")\n",
        "x = layers.Conv2D(32, 3, activation=\"relu\")(inputs)\n",
        "x = layers.Conv2D(64, 3, activation=\"relu\")(x)\n",
        "block_1_output = layers.MaxPooling2D(3)(x)\n",
        "\n",
        "x = layers.Conv2D(64, 3, activation=\"relu\", padding=\"same\")(block_1_output)\n",
        "x = layers.Conv2D(64, 3, activation=\"relu\", padding=\"same\")(x)\n",
        "block_2_output = layers.add([x, block_1_output])\n",
        "\n",
        "x = layers.Conv2D(64, 3, activation=\"relu\", padding=\"same\")(block_2_output)\n",
        "x = layers.Conv2D(64, 3, activation=\"relu\", padding=\"same\")(x)\n",
        "block_3_output = layers.add([x, block_2_output])\n",
        "\n",
        "x = layers.Conv2D(64, 3, activation=\"relu\")(block_3_output)\n",
        "x = layers.GlobalAveragePooling2D()(x)\n",
        "x = layers.Dense(256, activation=\"relu\")(x)\n",
        "x = layers.Dropout(0.5)(x)\n",
        "outputs = layers.Dense(7, activation='softmax')(x)\n",
        "\n",
        "model = keras.Model(inputs, outputs, name=\"toy_resnet\")\n",
        "model.summary()\n",
        "\n",
        "model.compile(optimizer='adam',\n",
        "             loss='categorical_crossentropy',\n",
        "             metrics=['accuracy'])"
      ],
      "metadata": {
        "colab": {
          "base_uri": "https://localhost:8080/"
        },
        "id": "bxcPfmjAu8Bk",
        "outputId": "def2322a-8268-4c34-9555-3f02be4b86df"
      },
      "execution_count": 15,
      "outputs": [
        {
          "output_type": "stream",
          "name": "stdout",
          "text": [
            "Model: \"toy_resnet\"\n",
            "__________________________________________________________________________________________________\n",
            " Layer (type)                   Output Shape         Param #     Connected to                     \n",
            "==================================================================================================\n",
            " img (InputLayer)               [(None, 48, 48, 1)]  0           []                               \n",
            "                                                                                                  \n",
            " conv2d (Conv2D)                (None, 46, 46, 32)   320         ['img[0][0]']                    \n",
            "                                                                                                  \n",
            " conv2d_1 (Conv2D)              (None, 44, 44, 64)   18496       ['conv2d[0][0]']                 \n",
            "                                                                                                  \n",
            " max_pooling2d (MaxPooling2D)   (None, 14, 14, 64)   0           ['conv2d_1[0][0]']               \n",
            "                                                                                                  \n",
            " conv2d_2 (Conv2D)              (None, 14, 14, 64)   36928       ['max_pooling2d[0][0]']          \n",
            "                                                                                                  \n",
            " conv2d_3 (Conv2D)              (None, 14, 14, 64)   36928       ['conv2d_2[0][0]']               \n",
            "                                                                                                  \n",
            " add (Add)                      (None, 14, 14, 64)   0           ['conv2d_3[0][0]',               \n",
            "                                                                  'max_pooling2d[0][0]']          \n",
            "                                                                                                  \n",
            " conv2d_4 (Conv2D)              (None, 14, 14, 64)   36928       ['add[0][0]']                    \n",
            "                                                                                                  \n",
            " conv2d_5 (Conv2D)              (None, 14, 14, 64)   36928       ['conv2d_4[0][0]']               \n",
            "                                                                                                  \n",
            " add_1 (Add)                    (None, 14, 14, 64)   0           ['conv2d_5[0][0]',               \n",
            "                                                                  'add[0][0]']                    \n",
            "                                                                                                  \n",
            " conv2d_6 (Conv2D)              (None, 12, 12, 64)   36928       ['add_1[0][0]']                  \n",
            "                                                                                                  \n",
            " global_average_pooling2d (Glob  (None, 64)          0           ['conv2d_6[0][0]']               \n",
            " alAveragePooling2D)                                                                              \n",
            "                                                                                                  \n",
            " dense (Dense)                  (None, 256)          16640       ['global_average_pooling2d[0][0]'\n",
            "                                                                 ]                                \n",
            "                                                                                                  \n",
            " dropout (Dropout)              (None, 256)          0           ['dense[0][0]']                  \n",
            "                                                                                                  \n",
            " dense_1 (Dense)                (None, 7)            1799        ['dropout[0][0]']                \n",
            "                                                                                                  \n",
            "==================================================================================================\n",
            "Total params: 221,895\n",
            "Trainable params: 221,895\n",
            "Non-trainable params: 0\n",
            "__________________________________________________________________________________________________\n"
          ]
        }
      ]
    },
    {
      "cell_type": "code",
      "source": [
        "# data generator\n",
        "data_generator = ImageDataGenerator(\n",
        "                        featurewise_center=False,\n",
        "                        featurewise_std_normalization=False,\n",
        "                        rotation_range=10,\n",
        "                        width_shift_range=0.1,\n",
        "                        height_shift_range=0.1,\n",
        "                        zoom_range=.1,\n",
        "                        horizontal_flip=True)\n",
        "\n",
        "\n",
        "es = EarlyStopping(monitor='val_loss', patience = 10, mode = 'min', restore_best_weights=True)\n",
        "\n",
        "history = model.fit_generator(data_generator.flow(train_X, train_Y, batch_size),\n",
        "                                steps_per_epoch=len(train_X) / batch_size,\n",
        "                                epochs=num_epochs,\n",
        "                                verbose=1, \n",
        "                                callbacks = [es],\n",
        "                                validation_data=(val_X, val_Y))"
      ],
      "metadata": {
        "colab": {
          "base_uri": "https://localhost:8080/"
        },
        "id": "GO0994fYu8N5",
        "outputId": "de219ae1-dd54-4a06-9e6a-3dd9fa68780d"
      },
      "execution_count": 16,
      "outputs": [
        {
          "output_type": "stream",
          "name": "stdout",
          "text": [
            "Epoch 1/50\n"
          ]
        },
        {
          "output_type": "stream",
          "name": "stderr",
          "text": [
            "<ipython-input-16-0e66acf67115>:14: UserWarning: `Model.fit_generator` is deprecated and will be removed in a future version. Please use `Model.fit`, which supports generators.\n",
            "  history = model.fit_generator(data_generator.flow(train_X, train_Y, batch_size),\n"
          ]
        },
        {
          "output_type": "stream",
          "name": "stdout",
          "text": [
            "448/448 [==============================] - 30s 42ms/step - loss: 1.8141 - accuracy: 0.2478 - val_loss: 1.7916 - val_accuracy: 0.2555\n",
            "Epoch 2/50\n",
            "448/448 [==============================] - 21s 46ms/step - loss: 1.7912 - accuracy: 0.2549 - val_loss: 1.7535 - val_accuracy: 0.2756\n",
            "Epoch 3/50\n",
            "448/448 [==============================] - 18s 40ms/step - loss: 1.7278 - accuracy: 0.2866 - val_loss: 1.7304 - val_accuracy: 0.2887\n",
            "Epoch 4/50\n",
            "448/448 [==============================] - 18s 40ms/step - loss: 1.6341 - accuracy: 0.3409 - val_loss: 1.5062 - val_accuracy: 0.4260\n",
            "Epoch 5/50\n",
            "448/448 [==============================] - 18s 41ms/step - loss: 1.4719 - accuracy: 0.4298 - val_loss: 1.3839 - val_accuracy: 0.4709\n",
            "Epoch 6/50\n",
            "448/448 [==============================] - 18s 40ms/step - loss: 1.3898 - accuracy: 0.4686 - val_loss: 1.3204 - val_accuracy: 0.5001\n",
            "Epoch 7/50\n",
            "448/448 [==============================] - 18s 40ms/step - loss: 1.3316 - accuracy: 0.4920 - val_loss: 1.2520 - val_accuracy: 0.5263\n",
            "Epoch 8/50\n",
            "448/448 [==============================] - 18s 40ms/step - loss: 1.2744 - accuracy: 0.5128 - val_loss: 1.2526 - val_accuracy: 0.5205\n",
            "Epoch 9/50\n",
            "448/448 [==============================] - 18s 39ms/step - loss: 1.2498 - accuracy: 0.5242 - val_loss: 1.2361 - val_accuracy: 0.5280\n",
            "Epoch 10/50\n",
            "448/448 [==============================] - 18s 40ms/step - loss: 1.2197 - accuracy: 0.5386 - val_loss: 1.1633 - val_accuracy: 0.5575\n",
            "Epoch 11/50\n",
            "448/448 [==============================] - 18s 39ms/step - loss: 1.1997 - accuracy: 0.5447 - val_loss: 1.1514 - val_accuracy: 0.5567\n",
            "Epoch 12/50\n",
            "448/448 [==============================] - 18s 40ms/step - loss: 1.1777 - accuracy: 0.5541 - val_loss: 1.1505 - val_accuracy: 0.5564\n",
            "Epoch 13/50\n",
            "448/448 [==============================] - 18s 39ms/step - loss: 1.1574 - accuracy: 0.5602 - val_loss: 1.1396 - val_accuracy: 0.5600\n",
            "Epoch 14/50\n",
            "448/448 [==============================] - 18s 40ms/step - loss: 1.1423 - accuracy: 0.5695 - val_loss: 1.1205 - val_accuracy: 0.5695\n",
            "Epoch 15/50\n",
            "448/448 [==============================] - 19s 43ms/step - loss: 1.1227 - accuracy: 0.5761 - val_loss: 1.1329 - val_accuracy: 0.5662\n",
            "Epoch 16/50\n",
            "448/448 [==============================] - 18s 39ms/step - loss: 1.1103 - accuracy: 0.5803 - val_loss: 1.1213 - val_accuracy: 0.5740\n",
            "Epoch 17/50\n",
            "448/448 [==============================] - 18s 40ms/step - loss: 1.0984 - accuracy: 0.5865 - val_loss: 1.0987 - val_accuracy: 0.5779\n",
            "Epoch 18/50\n",
            "448/448 [==============================] - 18s 41ms/step - loss: 1.0871 - accuracy: 0.5905 - val_loss: 1.0851 - val_accuracy: 0.5815\n",
            "Epoch 19/50\n",
            "448/448 [==============================] - 18s 39ms/step - loss: 1.0768 - accuracy: 0.5959 - val_loss: 1.1176 - val_accuracy: 0.5804\n",
            "Epoch 20/50\n",
            "448/448 [==============================] - 17s 39ms/step - loss: 1.0683 - accuracy: 0.5952 - val_loss: 1.1385 - val_accuracy: 0.5701\n",
            "Epoch 21/50\n",
            "448/448 [==============================] - 21s 46ms/step - loss: 1.0550 - accuracy: 0.6032 - val_loss: 1.0732 - val_accuracy: 0.5952\n",
            "Epoch 22/50\n",
            "448/448 [==============================] - 18s 40ms/step - loss: 1.0525 - accuracy: 0.6048 - val_loss: 1.0651 - val_accuracy: 0.5899\n",
            "Epoch 23/50\n",
            "448/448 [==============================] - 18s 40ms/step - loss: 1.0414 - accuracy: 0.6068 - val_loss: 1.0566 - val_accuracy: 0.6038\n",
            "Epoch 24/50\n",
            "448/448 [==============================] - 18s 39ms/step - loss: 1.0380 - accuracy: 0.6116 - val_loss: 1.0611 - val_accuracy: 0.5996\n",
            "Epoch 25/50\n",
            "448/448 [==============================] - 18s 40ms/step - loss: 1.0246 - accuracy: 0.6125 - val_loss: 1.0402 - val_accuracy: 0.6038\n",
            "Epoch 26/50\n",
            "448/448 [==============================] - 19s 42ms/step - loss: 1.0138 - accuracy: 0.6197 - val_loss: 1.0376 - val_accuracy: 0.5991\n",
            "Epoch 27/50\n",
            "448/448 [==============================] - 18s 39ms/step - loss: 1.0108 - accuracy: 0.6213 - val_loss: 1.0438 - val_accuracy: 0.6018\n",
            "Epoch 28/50\n",
            "448/448 [==============================] - 17s 39ms/step - loss: 1.0042 - accuracy: 0.6203 - val_loss: 1.0453 - val_accuracy: 0.6060\n",
            "Epoch 29/50\n",
            "448/448 [==============================] - 18s 39ms/step - loss: 0.9971 - accuracy: 0.6272 - val_loss: 1.0141 - val_accuracy: 0.6127\n",
            "Epoch 30/50\n",
            "448/448 [==============================] - 19s 42ms/step - loss: 0.9947 - accuracy: 0.6241 - val_loss: 1.0108 - val_accuracy: 0.6147\n",
            "Epoch 31/50\n",
            "448/448 [==============================] - 17s 39ms/step - loss: 0.9898 - accuracy: 0.6275 - val_loss: 1.0548 - val_accuracy: 0.5979\n",
            "Epoch 32/50\n",
            "448/448 [==============================] - 18s 39ms/step - loss: 0.9818 - accuracy: 0.6328 - val_loss: 1.0422 - val_accuracy: 0.6013\n",
            "Epoch 33/50\n",
            "448/448 [==============================] - 18s 40ms/step - loss: 0.9722 - accuracy: 0.6341 - val_loss: 1.0233 - val_accuracy: 0.6236\n",
            "Epoch 34/50\n",
            "448/448 [==============================] - 18s 39ms/step - loss: 0.9711 - accuracy: 0.6370 - val_loss: 1.0271 - val_accuracy: 0.6202\n",
            "Epoch 35/50\n",
            "448/448 [==============================] - 18s 39ms/step - loss: 0.9690 - accuracy: 0.6370 - val_loss: 1.0214 - val_accuracy: 0.6188\n",
            "Epoch 36/50\n",
            "448/448 [==============================] - 18s 39ms/step - loss: 0.9610 - accuracy: 0.6403 - val_loss: 1.0268 - val_accuracy: 0.6141\n",
            "Epoch 37/50\n",
            "448/448 [==============================] - 18s 39ms/step - loss: 0.9571 - accuracy: 0.6397 - val_loss: 1.0506 - val_accuracy: 0.6046\n",
            "Epoch 38/50\n",
            "448/448 [==============================] - 18s 40ms/step - loss: 0.9523 - accuracy: 0.6399 - val_loss: 1.0867 - val_accuracy: 0.5940\n",
            "Epoch 39/50\n",
            "448/448 [==============================] - 18s 39ms/step - loss: 0.9447 - accuracy: 0.6443 - val_loss: 1.0231 - val_accuracy: 0.6241\n",
            "Epoch 40/50\n",
            "448/448 [==============================] - 18s 39ms/step - loss: 0.9407 - accuracy: 0.6490 - val_loss: 1.0161 - val_accuracy: 0.6247\n"
          ]
        }
      ]
    },
    {
      "cell_type": "code",
      "source": [
        "test_loss, test_acc = model.evaluate(test_X, test_Y)\n",
        "test_acc"
      ],
      "metadata": {
        "colab": {
          "base_uri": "https://localhost:8080/"
        },
        "id": "Qx6UnMP4u_ns",
        "outputId": "130e1920-8475-4cc4-aa19-6d7f8862aa8f"
      },
      "execution_count": 17,
      "outputs": [
        {
          "output_type": "stream",
          "name": "stdout",
          "text": [
            "113/113 [==============================] - 1s 5ms/step - loss: 0.9798 - accuracy: 0.6236\n"
          ]
        },
        {
          "output_type": "execute_result",
          "data": {
            "text/plain": [
              "0.623572051525116"
            ]
          },
          "metadata": {},
          "execution_count": 17
        }
      ]
    },
    {
      "cell_type": "code",
      "source": [
        "fig , ax = plt.subplots(1,2)\n",
        "fig.set_size_inches(20, 8)\n",
        "\n",
        "train_acc = history.history['accuracy']\n",
        "train_loss = history.history['loss']\n",
        "val_acc = history.history['val_accuracy']\n",
        "val_loss = history.history['val_loss']\n",
        "\n",
        "epochs = range(1, len(train_acc) + 1)\n",
        "\n",
        "ax[0].plot(epochs , train_acc , 'g-o' , label = 'Training Accuracy')\n",
        "ax[0].plot(epochs , val_acc , 'y-o' , label = 'Validation Accuracy')\n",
        "ax[0].set_title('Model Training & Validation Accuracy')\n",
        "ax[0].legend(loc = 'lower right')\n",
        "ax[0].set_xlabel(\"Epochs\")\n",
        "ax[0].set_ylabel(\"Accuracy\")\n",
        "\n",
        "ax[1].plot(epochs , train_loss , 'g-o' , label = 'Training Loss')\n",
        "ax[1].plot(epochs , val_loss , 'y-o' , label = 'Validation Loss')\n",
        "ax[1].set_title('Model Training & Validation & Loss')\n",
        "ax[1].legend()\n",
        "ax[1].set_xlabel(\"Epochs\")\n",
        "ax[1].set_ylabel(\"Loss\")\n",
        "\n",
        "plt.show()"
      ],
      "metadata": {
        "colab": {
          "base_uri": "https://localhost:8080/",
          "height": 300
        },
        "id": "iJdj6_d2vAFD",
        "outputId": "fe81f72f-041f-444f-e480-c1883b0cc96b"
      },
      "execution_count": 18,
      "outputs": [
        {
          "output_type": "display_data",
          "data": {
            "text/plain": [
              "<Figure size 1440x576 with 2 Axes>"
            ],
            "image/png": "[encoded data removed]"
          },
          "metadata": {
            "needs_background": "light"
          }
        }
      ]
    },
    {
      "cell_type": "code",
      "source": [
        "model.save('model')\n",
        "model.save('modelh5', save_format='h5')\n",
        "# model = keras.models.load_model(\"model\")"
      ],
      "metadata": {
        "colab": {
          "base_uri": "https://localhost:8080/"
        },
        "id": "ST0xcjfKvCIH",
        "outputId": "2e51dc39-45a4-45cd-aa74-fae59d0504b2"
      },
      "execution_count": 19,
      "outputs": [
        {
          "output_type": "stream",
          "name": "stderr",
          "text": [
            "WARNING:absl:Found untraced functions such as _jit_compiled_convolution_op, _jit_compiled_convolution_op, _jit_compiled_convolution_op, _jit_compiled_convolution_op, _jit_compiled_convolution_op while saving (showing 5 of 7). These functions will not be directly callable after loading.\n"
          ]
        }
      ]
    },
    {
      "cell_type": "code",
      "source": [
        "#make prediction\n",
        "test_y = np.argmax(test_Y, axis=1)\n",
        "test_yhat = np.argmax(model.predict(test_X), axis=1)"
      ],
      "metadata": {
        "colab": {
          "base_uri": "https://localhost:8080/"
        },
        "id": "bNRFtcKivGPY",
        "outputId": "9ced895b-a9a9-444e-c5f1-2d055ffafa5a"
      },
      "execution_count": 20,
      "outputs": [
        {
          "output_type": "stream",
          "name": "stdout",
          "text": [
            "113/113 [==============================] - 0s 3ms/step\n"
          ]
        }
      ]
    },
    {
      "cell_type": "code",
      "source": [
        "emotions = {\n",
        "    0: 'Angry',\n",
        "    1: 'Disgust',\n",
        "    2: 'Fear',\n",
        "    3: 'Happy',\n",
        "    4: 'Sad',\n",
        "    5: 'Suprise',\n",
        "    6: 'Neutral'\n",
        "}\n",
        "\n",
        "#get confusion matrix\n",
        "cm = confusion_matrix(test_y, test_yhat)\n",
        "print(cm)\n",
        "\n",
        "fig, ax = plot_confusion_matrix(conf_mat=cm,\n",
        "                                show_normed=True,\n",
        "                                show_absolute=False,\n",
        "                                class_names=emotions.values(),\n",
        "                                figsize=(8, 8))\n",
        "fig.show()"
      ],
      "metadata": {
        "colab": {
          "base_uri": "https://localhost:8080/",
          "height": 642
        },
        "id": "zOuCttAcvJG4",
        "outputId": "3ed3af8c-67d1-4b9e-b315-3215d5f6727b"
      },
      "execution_count": 21,
      "outputs": [
        {
          "output_type": "stream",
          "name": "stdout",
          "text": [
            "[[241   1  59  27  71  11  81]\n",
            " [ 30   6   8   5   3   2   1]\n",
            " [ 61   0 193  23 127  62  62]\n",
            " [  6   0  25 779  28  16  25]\n",
            " [ 54   0  52  41 302  10 135]\n",
            " [ 12   0  59  22   7 301  15]\n",
            " [ 26   1  37  50  89   7 416]]\n"
          ]
        },
        {
          "output_type": "display_data",
          "data": {
            "text/plain": [
              "<Figure size 576x576 with 1 Axes>"
            ],
            "image/png": "[encoded data removed]"
          },
          "metadata": {
            "needs_background": "light"
          }
        }
      ]
    },
    {
      "cell_type": "code",
      "source": [
        "!zip -r /content/model_03.zip /content/model"
      ],
      "metadata": {
        "colab": {
          "base_uri": "https://localhost:8080/"
        },
        "id": "4ZuUxTKpwTj5",
        "outputId": "cfef3ffc-0749-4c76-cdb0-a8d6e092e9c1"
      },
      "execution_count": 24,
      "outputs": [
        {
          "output_type": "stream",
          "name": "stdout",
          "text": [
            "updating: content/model/ (stored 0%)\n",
            "updating: content/model/saved_model.pb (deflated 89%)\n",
            "updating: content/model/variables/ (stored 0%)\n",
            "updating: content/model/variables/variables.index (deflated 69%)\n",
            "updating: content/model/variables/variables.data-00000-of-00001 (deflated 14%)\n",
            "updating: content/model/keras_metadata.pb (deflated 93%)\n",
            "updating: content/model/assets/ (stored 0%)\n",
            "updating: content/model/fingerprint.pb (stored 0%)\n"
          ]
        }
      ]
    }
  ]
}