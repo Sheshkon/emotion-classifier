{
 "nbformat": 4,
 "nbformat_minor": 0,
 "metadata": {
  "colab": {
   "provenance": []
  },
  "kernelspec": {
   "name": "python3",
   "display_name": "Python 3"
  },
  "language_info": {
   "name": "python"
  },
  "accelerator": "GPU",
  "gpuClass": "standard"
 },
 "cells": [
  {
   "cell_type": "code",
   "execution_count": null,
   "metadata": {
    "colab": {
     "base_uri": "https://localhost:8080/"
    },
    "id": "XLs3xGlGuZuI",
    "outputId": "1b4409e2-9546-4a3c-8d6c-e4746c091914"
   },
   "outputs": [
    {
     "output_type": "stream",
     "name": "stdout",
     "text": [
      "Mounted at /content/gdrive/\n"
     ]
    }
   ],
   "source": [
    "from google.colab import drive\n",
    "\n",
    "drive.mount('/content/gdrive/')"
   ]
  },
  {
   "cell_type": "code",
   "source": [
    "!unzip \"gdrive/MyDrive/datasets/challenges-in-representation-learning-facial-expression-recognition-challenge.zip\" -d 'datasets'"
   ],
   "metadata": {
    "colab": {
     "base_uri": "https://localhost:8080/"
    },
    "id": "YChaEdmSucNl",
    "outputId": "68c2a43c-3979-4969-e04b-5680878eb124"
   },
   "execution_count": null,
   "outputs": [
    {
     "output_type": "stream",
     "name": "stdout",
     "text": [
      "Archive:  gdrive/MyDrive/datasets/challenges-in-representation-learning-facial-expression-recognition-challenge.zip\n",
      "  inflating: datasets/example_submission.csv  \n",
      "  inflating: datasets/fer2013.tar.gz  \n",
      "  inflating: datasets/icml_face_data.csv  \n",
      "  inflating: datasets/test.csv       \n",
      "  inflating: datasets/train.csv      \n"
     ]
    }
   ]
  },
  {
   "cell_type": "code",
   "source": [
    "import pandas as pd\n",
    "import numpy as np\n",
    "\n",
    "import seaborn as sns\n",
    "import matplotlib.pyplot as plt\n",
    "\n",
    "from typing import Tuple\n",
    "\n",
    "from tensorflow.keras.preprocessing.image import ImageDataGenerator\n",
    "import tensorflow.keras as keras\n",
    "\n",
    "from tensorflow.keras import layers\n",
    "from tensorflow.keras.models import Model, Sequential\n",
    "from tensorflow.keras.optimizers import Adam\n",
    "\n",
    "from tensorflow.keras.utils import plot_model\n",
    "\n",
    "!pip install git+https://github.com/tensorflow/docs\n",
    "\n",
    "from tensorflow.keras.callbacks import EarlyStopping, ModelCheckpoint, ReduceLROnPlateau\n",
    "import tensorflow_docs as tfdocs\n",
    "import tensorflow_docs.modeling\n",
    "import tensorflow_docs.plots\n",
    "\n",
    "!pip install mlxtend --upgrade --no-deps\n",
    "import mlxtend                                                      \n",
    "print(mlxtend.__version__) \n",
    "\n",
    "from mlxtend.plotting import plot_confusion_matrix\n",
    "from sklearn.metrics import confusion_matrix\n",
    "\n",
    "from sklearn.utils.class_weight import compute_class_weight\n",
    "from sklearn.preprocessing import LabelEncoder\n",
    "\n",
    "from keras.layers import Dense, Dropout, Activation, Flatten\n",
    "from keras.layers import Conv2D, MaxPooling2D, BatchNormalization"
   ],
   "metadata": {
    "colab": {
     "base_uri": "https://localhost:8080/"
    },
    "id": "mCbUYoW3uh4e",
    "outputId": "eb54fc7a-7156-4c58-e8bb-3811df8838d8"
   },
   "execution_count": null,
   "outputs": [
    {
     "output_type": "stream",
     "name": "stdout",
     "text": [
      "Looking in indexes: https://pypi.org/simple, https://us-python.pkg.dev/colab-wheels/public/simple/\n",
      "Collecting git+https://github.com/tensorflow/docs\n",
      "  Cloning https://github.com/tensorflow/docs to /tmp/pip-req-build-ilk9uzr3\n",
      "  Running command git clone --filter=blob:none --quiet https://github.com/tensorflow/docs /tmp/pip-req-build-ilk9uzr3\n",
      "  Resolved https://github.com/tensorflow/docs to commit 9b5b8b055e29d006b94b5dfc906d774ee4094bae\n",
      "  Preparing metadata (setup.py) ... \u001B[?25l\u001B[?25hdone\n",
      "Requirement already satisfied: astor in /usr/local/lib/python3.8/dist-packages (from tensorflow-docs==0.0.0.dev0) (0.8.1)\n",
      "Requirement already satisfied: absl-py in /usr/local/lib/python3.8/dist-packages (from tensorflow-docs==0.0.0.dev0) (1.4.0)\n",
      "Requirement already satisfied: jinja2 in /usr/local/lib/python3.8/dist-packages (from tensorflow-docs==0.0.0.dev0) (3.1.2)\n",
      "Requirement already satisfied: nbformat in /usr/local/lib/python3.8/dist-packages (from tensorflow-docs==0.0.0.dev0) (5.7.3)\n",
      "Requirement already satisfied: protobuf in /usr/local/lib/python3.8/dist-packages (from tensorflow-docs==0.0.0.dev0) (3.19.6)\n",
      "Requirement already satisfied: pyyaml in /usr/local/lib/python3.8/dist-packages (from tensorflow-docs==0.0.0.dev0) (6.0)\n",
      "Requirement already satisfied: MarkupSafe>=2.0 in /usr/local/lib/python3.8/dist-packages (from jinja2->tensorflow-docs==0.0.0.dev0) (2.1.2)\n",
      "Requirement already satisfied: fastjsonschema in /usr/local/lib/python3.8/dist-packages (from nbformat->tensorflow-docs==0.0.0.dev0) (2.16.3)\n",
      "Requirement already satisfied: jsonschema>=2.6 in /usr/local/lib/python3.8/dist-packages (from nbformat->tensorflow-docs==0.0.0.dev0) (4.3.3)\n",
      "Requirement already satisfied: traitlets>=5.1 in /usr/local/lib/python3.8/dist-packages (from nbformat->tensorflow-docs==0.0.0.dev0) (5.7.1)\n",
      "Requirement already satisfied: jupyter-core in /usr/local/lib/python3.8/dist-packages (from nbformat->tensorflow-docs==0.0.0.dev0) (5.2.0)\n",
      "Requirement already satisfied: pyrsistent!=0.17.0,!=0.17.1,!=0.17.2,>=0.14.0 in /usr/local/lib/python3.8/dist-packages (from jsonschema>=2.6->nbformat->tensorflow-docs==0.0.0.dev0) (0.19.3)\n",
      "Requirement already satisfied: importlib-resources>=1.4.0 in /usr/local/lib/python3.8/dist-packages (from jsonschema>=2.6->nbformat->tensorflow-docs==0.0.0.dev0) (5.12.0)\n",
      "Requirement already satisfied: attrs>=17.4.0 in /usr/local/lib/python3.8/dist-packages (from jsonschema>=2.6->nbformat->tensorflow-docs==0.0.0.dev0) (22.2.0)\n",
      "Requirement already satisfied: platformdirs>=2.5 in /usr/local/lib/python3.8/dist-packages (from jupyter-core->nbformat->tensorflow-docs==0.0.0.dev0) (3.0.0)\n",
      "Requirement already satisfied: zipp>=3.1.0 in /usr/local/lib/python3.8/dist-packages (from importlib-resources>=1.4.0->jsonschema>=2.6->nbformat->tensorflow-docs==0.0.0.dev0) (3.15.0)\n",
      "Building wheels for collected packages: tensorflow-docs\n",
      "  Building wheel for tensorflow-docs (setup.py) ... \u001B[?25l\u001B[?25hdone\n",
      "  Created wheel for tensorflow-docs: filename=tensorflow_docs-0.0.0.dev0-py3-none-any.whl size=178984 sha256=38950bc1eaff107c9a90a21791f5c6a333027f47d8be7098cc13b45aa85668af\n",
      "  Stored in directory: /tmp/pip-ephem-wheel-cache-txjxthpl/wheels/3b/ee/a2/ab4d36a9a4af495bcb936f3e849d4b497b65fa40548a68d6c3\n",
      "Successfully built tensorflow-docs\n",
      "Installing collected packages: tensorflow-docs\n",
      "Successfully installed tensorflow-docs-0.0.0.dev0\n",
      "Looking in indexes: https://pypi.org/simple, https://us-python.pkg.dev/colab-wheels/public/simple/\n",
      "Requirement already satisfied: mlxtend in /usr/local/lib/python3.8/dist-packages (0.14.0)\n",
      "Collecting mlxtend\n",
      "  Downloading mlxtend-0.21.0-py2.py3-none-any.whl (1.3 MB)\n",
      "\u001B[2K     \u001B[90m━━━━━━━━━━━━━━━━━━━━━━━━━━━━━━━━━━━━━━━━\u001B[0m \u001B[32m1.3/1.3 MB\u001B[0m \u001B[31m61.7 MB/s\u001B[0m eta \u001B[36m0:00:00\u001B[0m\n",
      "\u001B[?25hInstalling collected packages: mlxtend\n",
      "  Attempting uninstall: mlxtend\n",
      "    Found existing installation: mlxtend 0.14.0\n",
      "    Uninstalling mlxtend-0.14.0:\n",
      "      Successfully uninstalled mlxtend-0.14.0\n",
      "Successfully installed mlxtend-0.21.0\n",
      "0.21.0\n"
     ]
    }
   ]
  },
  {
   "cell_type": "code",
   "source": [
    "root_dir = '/content/datasets/'\n",
    "full_data_file_name = 'icml_face_data.csv'\n",
    "train_data_file_name = 'train.csv'\n",
    "test_data_file_name = 'test.csv'"
   ],
   "metadata": {
    "id": "9ifrVe7OunW7"
   },
   "execution_count": null,
   "outputs": []
  },
  {
   "cell_type": "code",
   "source": [
    "df = pd.read_csv(root_dir + full_data_file_name)\n",
    "df.columns = ('emotion', 'Usage', 'pixels')\n",
    "df.head()"
   ],
   "metadata": {
    "colab": {
     "base_uri": "https://localhost:8080/",
     "height": 206
    },
    "id": "WLV6CRGBuoJE",
    "outputId": "b2f3ac2e-1229-479c-8fab-e2fe135ae357"
   },
   "execution_count": null,
   "outputs": [
    {
     "output_type": "execute_result",
     "data": {
      "text/plain": [
       "   emotion     Usage                                             pixels\n",
       "0        0  Training  70 80 82 72 58 58 60 63 54 58 60 48 89 115 121...\n",
       "1        0  Training  151 150 147 155 148 133 111 140 170 174 182 15...\n",
       "2        2  Training  231 212 156 164 174 138 161 173 182 200 106 38...\n",
       "3        4  Training  24 32 36 30 32 23 19 20 30 41 21 22 32 34 21 1...\n",
       "4        6  Training  4 0 0 0 0 0 0 0 0 0 0 0 3 15 23 28 48 50 58 84..."
      ],
      "text/html": [
       "\n",
       "  <div id=\"df-558483c1-e598-4708-b2db-1cd4b04c241d\">\n",
       "    <div class=\"colab-df-container\">\n",
       "      <div>\n",
       "<style scoped>\n",
       "    .dataframe tbody tr th:only-of-type {\n",
       "        vertical-align: middle;\n",
       "    }\n",
       "\n",
       "    .dataframe tbody tr th {\n",
       "        vertical-align: top;\n",
       "    }\n",
       "\n",
       "    .dataframe thead th {\n",
       "        text-align: right;\n",
       "    }\n",
       "</style>\n",
       "<table border=\"1\" class=\"dataframe\">\n",
       "  <thead>\n",
       "    <tr style=\"text-align: right;\">\n",
       "      <th></th>\n",
       "      <th>emotion</th>\n",
       "      <th>Usage</th>\n",
       "      <th>pixels</th>\n",
       "    </tr>\n",
       "  </thead>\n",
       "  <tbody>\n",
       "    <tr>\n",
       "      <th>0</th>\n",
       "      <td>0</td>\n",
       "      <td>Training</td>\n",
       "      <td>70 80 82 72 58 58 60 63 54 58 60 48 89 115 121...</td>\n",
       "    </tr>\n",
       "    <tr>\n",
       "      <th>1</th>\n",
       "      <td>0</td>\n",
       "      <td>Training</td>\n",
       "      <td>151 150 147 155 148 133 111 140 170 174 182 15...</td>\n",
       "    </tr>\n",
       "    <tr>\n",
       "      <th>2</th>\n",
       "      <td>2</td>\n",
       "      <td>Training</td>\n",
       "      <td>231 212 156 164 174 138 161 173 182 200 106 38...</td>\n",
       "    </tr>\n",
       "    <tr>\n",
       "      <th>3</th>\n",
       "      <td>4</td>\n",
       "      <td>Training</td>\n",
       "      <td>24 32 36 30 32 23 19 20 30 41 21 22 32 34 21 1...</td>\n",
       "    </tr>\n",
       "    <tr>\n",
       "      <th>4</th>\n",
       "      <td>6</td>\n",
       "      <td>Training</td>\n",
       "      <td>4 0 0 0 0 0 0 0 0 0 0 0 3 15 23 28 48 50 58 84...</td>\n",
       "    </tr>\n",
       "  </tbody>\n",
       "</table>\n",
       "</div>\n",
       "      <button class=\"colab-df-convert\" onclick=\"convertToInteractive('df-558483c1-e598-4708-b2db-1cd4b04c241d')\"\n",
       "              title=\"Convert this dataframe to an interactive table.\"\n",
       "              style=\"display:none;\">\n",
       "        \n",
       "  <svg xmlns=\"http://www.w3.org/2000/svg\" height=\"24px\"viewBox=\"0 0 24 24\"\n",
       "       width=\"24px\">\n",
       "    <path d=\"M0 0h24v24H0V0z\" fill=\"none\"/>\n",
       "    <path d=\"M18.56 5.44l.94 2.06.94-2.06 2.06-.94-2.06-.94-.94-2.06-.94 2.06-2.06.94zm-11 1L8.5 8.5l.94-2.06 2.06-.94-2.06-.94L8.5 2.5l-.94 2.06-2.06.94zm10 10l.94 2.06.94-2.06 2.06-.94-2.06-.94-.94-2.06-.94 2.06-2.06.94z\"/><path d=\"M17.41 7.96l-1.37-1.37c-.4-.4-.92-.59-1.43-.59-.52 0-1.04.2-1.43.59L10.3 9.45l-7.72 7.72c-.78.78-.78 2.05 0 2.83L4 21.41c.39.39.9.59 1.41.59.51 0 1.02-.2 1.41-.59l7.78-7.78 2.81-2.81c.8-.78.8-2.07 0-2.86zM5.41 20L4 18.59l7.72-7.72 1.47 1.35L5.41 20z\"/>\n",
       "  </svg>\n",
       "      </button>\n",
       "      \n",
       "  <style>\n",
       "    .colab-df-container {\n",
       "      display:flex;\n",
       "      flex-wrap:wrap;\n",
       "      gap: 12px;\n",
       "    }\n",
       "\n",
       "    .colab-df-convert {\n",
       "      background-color: #E8F0FE;\n",
       "      border: none;\n",
       "      border-radius: 50%;\n",
       "      cursor: pointer;\n",
       "      display: none;\n",
       "      fill: #1967D2;\n",
       "      height: 32px;\n",
       "      padding: 0 0 0 0;\n",
       "      width: 32px;\n",
       "    }\n",
       "\n",
       "    .colab-df-convert:hover {\n",
       "      background-color: #E2EBFA;\n",
       "      box-shadow: 0px 1px 2px rgba(60, 64, 67, 0.3), 0px 1px 3px 1px rgba(60, 64, 67, 0.15);\n",
       "      fill: #174EA6;\n",
       "    }\n",
       "\n",
       "    [theme=dark] .colab-df-convert {\n",
       "      background-color: #3B4455;\n",
       "      fill: #D2E3FC;\n",
       "    }\n",
       "\n",
       "    [theme=dark] .colab-df-convert:hover {\n",
       "      background-color: #434B5C;\n",
       "      box-shadow: 0px 1px 3px 1px rgba(0, 0, 0, 0.15);\n",
       "      filter: drop-shadow(0px 1px 2px rgba(0, 0, 0, 0.3));\n",
       "      fill: #FFFFFF;\n",
       "    }\n",
       "  </style>\n",
       "\n",
       "      <script>\n",
       "        const buttonEl =\n",
       "          document.querySelector('#df-558483c1-e598-4708-b2db-1cd4b04c241d button.colab-df-convert');\n",
       "        buttonEl.style.display =\n",
       "          google.colab.kernel.accessAllowed ? 'block' : 'none';\n",
       "\n",
       "        async function convertToInteractive(key) {\n",
       "          const element = document.querySelector('#df-558483c1-e598-4708-b2db-1cd4b04c241d');\n",
       "          const dataTable =\n",
       "            await google.colab.kernel.invokeFunction('convertToInteractive',\n",
       "                                                     [key], {});\n",
       "          if (!dataTable) return;\n",
       "\n",
       "          const docLinkHtml = 'Like what you see? Visit the ' +\n",
       "            '<a target=\"_blank\" href=https://colab.research.google.com/notebooks/data_table.ipynb>data table notebook</a>'\n",
       "            + ' to learn more about interactive tables.';\n",
       "          element.innerHTML = '';\n",
       "          dataTable['output_type'] = 'display_data';\n",
       "          await google.colab.output.renderOutput(dataTable, element);\n",
       "          const docLink = document.createElement('div');\n",
       "          docLink.innerHTML = docLinkHtml;\n",
       "          element.appendChild(docLink);\n",
       "        }\n",
       "      </script>\n",
       "    </div>\n",
       "  </div>\n",
       "  "
      ]
     },
     "metadata": {},
     "execution_count": 5
    }
   ]
  },
  {
   "cell_type": "code",
   "source": [
    "#split data into training, validation and test set\n",
    "data_train = df[df['Usage']=='Training'].copy()\n",
    "data_val   = df[df['Usage']=='PublicTest'].copy()\n",
    "data_test  = df[df['Usage']=='PrivateTest'].copy()\n",
    "print(\"train shape: {}, \\nvalidation shape: {}, \\ntest shape: {}\".format(data_train.shape, data_val.shape, data_test.shape))"
   ],
   "metadata": {
    "colab": {
     "base_uri": "https://localhost:8080/"
    },
    "id": "oEWzmncQusOz",
    "outputId": "a6df485e-e697-47e6-96c8-facc110ff864"
   },
   "execution_count": null,
   "outputs": [
    {
     "output_type": "stream",
     "name": "stdout",
     "text": [
      "train shape: (28709, 3), \n",
      "validation shape: (3589, 3), \n",
      "test shape: (3589, 3)\n"
     ]
    }
   ]
  },
  {
   "cell_type": "code",
   "source": [
    "num_classes = 7 \n",
    "width, height = 48, 48\n",
    "num_epochs = 50\n",
    "batch_size = 64\n",
    "num_features = 64"
   ],
   "metadata": {
    "id": "MjAugB5quyLm"
   },
   "execution_count": null,
   "outputs": []
  },
  {
   "cell_type": "code",
   "source": [
    "# CRNO stands for Convert, Reshape, Normalize, One-hot encoding\n",
    "# (i) convert strings to lists of integers\n",
    "# (ii) reshape and normalise grayscale image with 255.0\n",
    "# (iii) one-hot encoding label, e.g. class 3 to [0,0,0,1,0,0,0]\n",
    "\n",
    "def CRNO(df, dataName):\n",
    "    df['pixels'] = df['pixels'].apply(lambda pixel_sequence: [int(pixel) for pixel in pixel_sequence.split()])\n",
    "    data_X = np.array(df['pixels'].tolist(), dtype='float32').reshape(-1,width, height,1)/255.0   \n",
    "    data_Y = keras.utils.to_categorical(df['emotion'], num_classes)  \n",
    "    print(dataName, \"_X shape: {}, \", dataName, \"_Y shape: {}\".format(data_X.shape, data_Y.shape))\n",
    "    return data_X, data_Y\n",
    "\n",
    "    \n",
    "train_X, train_Y = CRNO(data_train, \"train\") #training data\n",
    "val_X, val_Y     = CRNO(data_val, \"val\") #validation data\n",
    "test_X, test_Y   = CRNO(data_test, \"test\") #test data"
   ],
   "metadata": {
    "colab": {
     "base_uri": "https://localhost:8080/"
    },
    "id": "oFSpAeASuvcq",
    "outputId": "69e7452d-5f1d-4ee0-9ff9-2082781849d1"
   },
   "execution_count": null,
   "outputs": [
    {
     "output_type": "stream",
     "name": "stdout",
     "text": [
      "train _X shape: {},  train _Y shape: (28709, 48, 48, 1)\n",
      "val _X shape: {},  val _Y shape: (3589, 48, 48, 1)\n",
      "test _X shape: {},  test _Y shape: (3589, 48, 48, 1)\n"
     ]
    }
   ]
  },
  {
   "cell_type": "code",
   "source": [
    "import tensorflow as tf\n",
    "from tensorflow.keras.applications import EfficientNetB0\n",
    "\n",
    "# Load the EfficientNetB0 model\n",
    "effnet_model = EfficientNetB0(input_shape=(48, 48, 3), include_top=False, weights='imagenet')\n",
    "\n",
    "input_tensor = keras.layers.Input(shape=(48, 48, 1))\n",
    "\n",
    "x = Conv2D(3, (3, 3), padding='same')(input_tensor)\n",
    "out = effnet_model(x)\n",
    "model_ = Model(inputs=input_tensor, outputs=out)\n",
    "\n",
    "# Add custom layers on top of the EfficientNetB0 model\n",
    "model = tf.keras.models.Sequential([\n",
    "    model_,\n",
    "    tf.keras.layers.GlobalAveragePooling2D(),\n",
    "    tf.keras.layers.Dense(128, activation='relu'),\n",
    "    tf.keras.layers.Dropout(0.5),\n",
    "    tf.keras.layers.Dense(7, activation='softmax')\n",
    "])\n",
    "#compile\n",
    "model.compile(optimizer=keras.optimizers.Adam(learning_rate = 1e-5),\n",
    "             loss='categorical_crossentropy',\n",
    "             metrics=['accuracy'])"
   ],
   "metadata": {
    "id": "bxcPfmjAu8Bk",
    "colab": {
     "base_uri": "https://localhost:8080/"
    },
    "outputId": "ab6f303d-f1ff-4e7d-c11d-19acf4ee1aee"
   },
   "execution_count": null,
   "outputs": [
    {
     "output_type": "stream",
     "name": "stdout",
     "text": [
      "Downloading data from https://storage.googleapis.com/keras-applications/efficientnetb0_notop.h5\n",
      "16705208/16705208 [==============================] - 2s 0us/step\n"
     ]
    }
   ]
  },
  {
   "cell_type": "code",
   "source": [
    "#%%\n",
    "!pip install git+https://github.com/tensorflow/docs\n",
    "\n",
    "from tensorflow.keras.callbacks import EarlyStopping, ModelCheckpoint, ReduceLROnPlateau\n",
    "import tensorflow_docs as tfdocs\n",
    "import tensorflow_docs.modeling\n",
    "import tensorflow_docs.plots\n",
    "epochs = 100\n",
    "\n",
    "#checkpoint to save best weights\n",
    "checkpoint = ModelCheckpoint('model_weights.h5',\n",
    "                             monitor='val_accuracy',\n",
    "                             save_weights_only=True,\n",
    "                             mode='max',\n",
    "                             verbose=1)\n",
    "\n",
    "#reduce learning rate if plateau\n",
    "reduce_lr = ReduceLROnPlateau(monitor='val_loss',\n",
    "                              factor=0.1,\n",
    "                              patience=2,\n",
    "                              min_lr=0.00001,\n",
    "                              mode='min')\n",
    "\n",
    "#stop training if accuracy does not improve\n",
    "earlystop = EarlyStopping(monitor='val_accuracy',\n",
    "                          patience=10,\n",
    "                          mode='max',\n",
    "                          verbose=1)\n",
    "\n",
    "#define callbacks\n",
    "callbacks = [tfdocs.modeling.EpochDots(), \n",
    "             earlystop, \n",
    "             checkpoint, \n",
    "             reduce_lr]"
   ],
   "metadata": {
    "colab": {
     "base_uri": "https://localhost:8080/"
    },
    "id": "hvUEnD13hntz",
    "outputId": "5e862c6f-78e4-4c16-da02-d35e9aa39001"
   },
   "execution_count": null,
   "outputs": [
    {
     "output_type": "stream",
     "name": "stdout",
     "text": [
      "Looking in indexes: https://pypi.org/simple, https://us-python.pkg.dev/colab-wheels/public/simple/\n",
      "Collecting git+https://github.com/tensorflow/docs\n",
      "  Cloning https://github.com/tensorflow/docs to /tmp/pip-req-build-42e5wgbr\n",
      "  Running command git clone --filter=blob:none --quiet https://github.com/tensorflow/docs /tmp/pip-req-build-42e5wgbr\n",
      "  Resolved https://github.com/tensorflow/docs to commit 9b5b8b055e29d006b94b5dfc906d774ee4094bae\n",
      "  Preparing metadata (setup.py) ... \u001B[?25l\u001B[?25hdone\n",
      "Requirement already satisfied: astor in /usr/local/lib/python3.8/dist-packages (from tensorflow-docs==0.0.0.dev0) (0.8.1)\n",
      "Requirement already satisfied: absl-py in /usr/local/lib/python3.8/dist-packages (from tensorflow-docs==0.0.0.dev0) (1.4.0)\n",
      "Requirement already satisfied: jinja2 in /usr/local/lib/python3.8/dist-packages (from tensorflow-docs==0.0.0.dev0) (3.1.2)\n",
      "Requirement already satisfied: nbformat in /usr/local/lib/python3.8/dist-packages (from tensorflow-docs==0.0.0.dev0) (5.7.3)\n",
      "Requirement already satisfied: protobuf in /usr/local/lib/python3.8/dist-packages (from tensorflow-docs==0.0.0.dev0) (3.19.6)\n",
      "Requirement already satisfied: pyyaml in /usr/local/lib/python3.8/dist-packages (from tensorflow-docs==0.0.0.dev0) (6.0)\n",
      "Requirement already satisfied: MarkupSafe>=2.0 in /usr/local/lib/python3.8/dist-packages (from jinja2->tensorflow-docs==0.0.0.dev0) (2.1.2)\n",
      "Requirement already satisfied: traitlets>=5.1 in /usr/local/lib/python3.8/dist-packages (from nbformat->tensorflow-docs==0.0.0.dev0) (5.7.1)\n",
      "Requirement already satisfied: jupyter-core in /usr/local/lib/python3.8/dist-packages (from nbformat->tensorflow-docs==0.0.0.dev0) (5.2.0)\n",
      "Requirement already satisfied: jsonschema>=2.6 in /usr/local/lib/python3.8/dist-packages (from nbformat->tensorflow-docs==0.0.0.dev0) (4.3.3)\n",
      "Requirement already satisfied: fastjsonschema in /usr/local/lib/python3.8/dist-packages (from nbformat->tensorflow-docs==0.0.0.dev0) (2.16.3)\n",
      "Requirement already satisfied: pyrsistent!=0.17.0,!=0.17.1,!=0.17.2,>=0.14.0 in /usr/local/lib/python3.8/dist-packages (from jsonschema>=2.6->nbformat->tensorflow-docs==0.0.0.dev0) (0.19.3)\n",
      "Requirement already satisfied: importlib-resources>=1.4.0 in /usr/local/lib/python3.8/dist-packages (from jsonschema>=2.6->nbformat->tensorflow-docs==0.0.0.dev0) (5.12.0)\n",
      "Requirement already satisfied: attrs>=17.4.0 in /usr/local/lib/python3.8/dist-packages (from jsonschema>=2.6->nbformat->tensorflow-docs==0.0.0.dev0) (22.2.0)\n",
      "Requirement already satisfied: platformdirs>=2.5 in /usr/local/lib/python3.8/dist-packages (from jupyter-core->nbformat->tensorflow-docs==0.0.0.dev0) (3.0.0)\n",
      "Requirement already satisfied: zipp>=3.1.0 in /usr/local/lib/python3.8/dist-packages (from importlib-resources>=1.4.0->jsonschema>=2.6->nbformat->tensorflow-docs==0.0.0.dev0) (3.15.0)\n"
     ]
    }
   ]
  },
  {
   "cell_type": "code",
   "source": [
    "# data generator\n",
    "datagen = ImageDataGenerator(rotation_range=25, \n",
    "                             width_shift_range=0.1,\n",
    "                             height_shift_range=0.1, \n",
    "                             shear_range=0.2, \n",
    "                             zoom_range=0.2,\n",
    "                             horizontal_flip=True)\n",
    "\n",
    "datagen.fit(train_X)\n",
    "datagen.fit(val_X)\n",
    "\n",
    "\n",
    "\n",
    "history = model.fit(train_X, train_Y,\n",
    "                    validation_data=(val_X, val_Y),\n",
    "                    steps_per_epoch=len(train_X) / batch_size,\n",
    "                    epochs=epochs,\n",
    "                    callbacks=callbacks)"
   ],
   "metadata": {
    "colab": {
     "base_uri": "https://localhost:8080/"
    },
    "id": "GO0994fYu8N5",
    "outputId": "31e07c36-f172-44e3-ddc9-c991ef9629f2"
   },
   "execution_count": null,
   "outputs": [
    {
     "output_type": "stream",
     "name": "stdout",
     "text": [
      "Epoch 1/100\n",
      "449/448 [==============================] - ETA: 0s - loss: 2.1524 - accuracy: 0.1717\n",
      "Epoch: 0, accuracy:0.1717,  loss:2.1524,  val_accuracy:0.1555,  val_loss:2.0615,  \n",
      ".\n",
      "Epoch 1: saving model to model_weights.h5\n",
      "448/448 [==============================] - 94s 57ms/step - loss: 2.1524 - accuracy: 0.1717 - val_loss: 2.0615 - val_accuracy: 0.1555 - lr: 1.0000e-05\n",
      "Epoch 2/100\n",
      "449/448 [==============================] - ETA: 0s - loss: 2.0189 - accuracy: 0.2080.\n",
      "Epoch 2: saving model to model_weights.h5\n",
      "448/448 [==============================] - 25s 55ms/step - loss: 2.0189 - accuracy: 0.2080 - val_loss: 1.8814 - val_accuracy: 0.2288 - lr: 1.0000e-05\n",
      "Epoch 3/100\n",
      "449/448 [==============================] - ETA: 0s - loss: 1.9562 - accuracy: 0.2287.\n",
      "Epoch 3: saving model to model_weights.h5\n",
      "448/448 [==============================] - 22s 48ms/step - loss: 1.9562 - accuracy: 0.2287 - val_loss: 1.8449 - val_accuracy: 0.2441 - lr: 1.0000e-05\n",
      "Epoch 4/100\n",
      "448/448 [============================>.] - ETA: 0s - loss: 1.8972 - accuracy: 0.2464.\n",
      "Epoch 4: saving model to model_weights.h5\n",
      "448/448 [==============================] - 24s 52ms/step - loss: 1.8975 - accuracy: 0.2464 - val_loss: 1.8013 - val_accuracy: 0.2630 - lr: 1.0000e-05\n",
      "Epoch 5/100\n",
      "449/448 [==============================] - ETA: 0s - loss: 1.8522 - accuracy: 0.2628.\n",
      "Epoch 5: saving model to model_weights.h5\n",
      "448/448 [==============================] - 24s 53ms/step - loss: 1.8522 - accuracy: 0.2628 - val_loss: 1.8006 - val_accuracy: 0.2614 - lr: 1.0000e-05\n",
      "Epoch 6/100\n",
      "449/448 [==============================] - ETA: 0s - loss: 1.8173 - accuracy: 0.2793.\n",
      "Epoch 6: saving model to model_weights.h5\n",
      "448/448 [==============================] - 23s 52ms/step - loss: 1.8173 - accuracy: 0.2793 - val_loss: 1.7516 - val_accuracy: 0.3020 - lr: 1.0000e-05\n",
      "Epoch 7/100\n",
      "448/448 [============================>.] - ETA: 0s - loss: 1.7819 - accuracy: 0.2908.\n",
      "Epoch 7: saving model to model_weights.h5\n",
      "448/448 [==============================] - 23s 52ms/step - loss: 1.7818 - accuracy: 0.2910 - val_loss: 1.7517 - val_accuracy: 0.2823 - lr: 1.0000e-05\n",
      "Epoch 8/100\n",
      "448/448 [============================>.] - ETA: 0s - loss: 1.7544 - accuracy: 0.3055.\n",
      "Epoch 8: saving model to model_weights.h5\n",
      "448/448 [==============================] - 24s 53ms/step - loss: 1.7543 - accuracy: 0.3056 - val_loss: 1.7254 - val_accuracy: 0.3162 - lr: 1.0000e-05\n",
      "Epoch 9/100\n",
      "449/448 [==============================] - ETA: 0s - loss: 1.7207 - accuracy: 0.3237.\n",
      "Epoch 9: saving model to model_weights.h5\n",
      "448/448 [==============================] - 23s 52ms/step - loss: 1.7207 - accuracy: 0.3237 - val_loss: 1.6921 - val_accuracy: 0.3341 - lr: 1.0000e-05\n",
      "Epoch 10/100\n",
      "449/448 [==============================] - ETA: 0s - loss: 1.6970 - accuracy: 0.3301.\n",
      "Epoch 10: saving model to model_weights.h5\n",
      "448/448 [==============================] - 23s 50ms/step - loss: 1.6970 - accuracy: 0.3301 - val_loss: 1.6551 - val_accuracy: 0.3530 - lr: 1.0000e-05\n",
      "Epoch 11/100\n",
      "448/448 [============================>.] - ETA: 0s - loss: 1.6735 - accuracy: 0.3412.\n",
      "Epoch 11: saving model to model_weights.h5\n",
      "448/448 [==============================] - 24s 54ms/step - loss: 1.6734 - accuracy: 0.3411 - val_loss: 1.7298 - val_accuracy: 0.2948 - lr: 1.0000e-05\n",
      "Epoch 12/100\n",
      "448/448 [============================>.] - ETA: 0s - loss: 1.6512 - accuracy: 0.3536.\n",
      "Epoch 12: saving model to model_weights.h5\n",
      "448/448 [==============================] - 24s 54ms/step - loss: 1.6513 - accuracy: 0.3535 - val_loss: 1.6334 - val_accuracy: 0.3692 - lr: 1.0000e-05\n",
      "Epoch 13/100\n",
      "449/448 [==============================] - ETA: 0s - loss: 1.6315 - accuracy: 0.3597.\n",
      "Epoch 13: saving model to model_weights.h5\n",
      "448/448 [==============================] - 24s 54ms/step - loss: 1.6315 - accuracy: 0.3597 - val_loss: 1.6403 - val_accuracy: 0.3589 - lr: 1.0000e-05\n",
      "Epoch 14/100\n",
      "448/448 [============================>.] - ETA: 0s - loss: 1.6146 - accuracy: 0.3738.\n",
      "Epoch 14: saving model to model_weights.h5\n",
      "448/448 [==============================] - 23s 51ms/step - loss: 1.6144 - accuracy: 0.3738 - val_loss: 1.6738 - val_accuracy: 0.3349 - lr: 1.0000e-05\n",
      "Epoch 15/100\n",
      "449/448 [==============================] - ETA: 0s - loss: 1.5947 - accuracy: 0.3792.\n",
      "Epoch 15: saving model to model_weights.h5\n",
      "448/448 [==============================] - 24s 53ms/step - loss: 1.5947 - accuracy: 0.3792 - val_loss: 1.6299 - val_accuracy: 0.3670 - lr: 1.0000e-05\n",
      "Epoch 16/100\n",
      "448/448 [============================>.] - ETA: 0s - loss: 1.5718 - accuracy: 0.3918.\n",
      "Epoch 16: saving model to model_weights.h5\n",
      "448/448 [==============================] - 25s 55ms/step - loss: 1.5722 - accuracy: 0.3916 - val_loss: 1.6561 - val_accuracy: 0.3435 - lr: 1.0000e-05\n",
      "Epoch 17/100\n",
      "449/448 [==============================] - ETA: 0s - loss: 1.5569 - accuracy: 0.3974.\n",
      "Epoch 17: saving model to model_weights.h5\n",
      "448/448 [==============================] - 24s 53ms/step - loss: 1.5569 - accuracy: 0.3974 - val_loss: 1.5890 - val_accuracy: 0.3867 - lr: 1.0000e-05\n",
      "Epoch 18/100\n",
      "449/448 [==============================] - ETA: 0s - loss: 1.5410 - accuracy: 0.4044.\n",
      "Epoch 18: saving model to model_weights.h5\n",
      "448/448 [==============================] - 23s 51ms/step - loss: 1.5410 - accuracy: 0.4044 - val_loss: 1.6741 - val_accuracy: 0.3332 - lr: 1.0000e-05\n",
      "Epoch 19/100\n",
      "448/448 [============================>.] - ETA: 0s - loss: 1.5243 - accuracy: 0.4102.\n",
      "Epoch 19: saving model to model_weights.h5\n",
      "448/448 [==============================] - 24s 54ms/step - loss: 1.5246 - accuracy: 0.4100 - val_loss: 1.5616 - val_accuracy: 0.3865 - lr: 1.0000e-05\n",
      "Epoch 20/100\n",
      "448/448 [============================>.] - ETA: 0s - loss: 1.5095 - accuracy: 0.4170.\n",
      "Epoch 20: saving model to model_weights.h5\n",
      "448/448 [==============================] - 24s 53ms/step - loss: 1.5097 - accuracy: 0.4170 - val_loss: 1.5420 - val_accuracy: 0.4085 - lr: 1.0000e-05\n",
      "Epoch 21/100\n",
      "449/448 [==============================] - ETA: 0s - loss: 1.4898 - accuracy: 0.4271.\n",
      "Epoch 21: saving model to model_weights.h5\n",
      "448/448 [==============================] - 24s 54ms/step - loss: 1.4898 - accuracy: 0.4271 - val_loss: 1.5351 - val_accuracy: 0.4138 - lr: 1.0000e-05\n",
      "Epoch 22/100\n",
      "449/448 [==============================] - ETA: 0s - loss: 1.4776 - accuracy: 0.4309.\n",
      "Epoch 22: saving model to model_weights.h5\n",
      "448/448 [==============================] - 22s 50ms/step - loss: 1.4776 - accuracy: 0.4309 - val_loss: 1.5340 - val_accuracy: 0.4126 - lr: 1.0000e-05\n",
      "Epoch 23/100\n",
      "448/448 [============================>.] - ETA: 0s - loss: 1.4643 - accuracy: 0.4374.\n",
      "Epoch 23: saving model to model_weights.h5\n",
      "448/448 [==============================] - 24s 53ms/step - loss: 1.4643 - accuracy: 0.4374 - val_loss: 1.5227 - val_accuracy: 0.4168 - lr: 1.0000e-05\n",
      "Epoch 24/100\n",
      "448/448 [============================>.] - ETA: 0s - loss: 1.4492 - accuracy: 0.4446.\n",
      "Epoch 24: saving model to model_weights.h5\n",
      "448/448 [==============================] - 23s 52ms/step - loss: 1.4495 - accuracy: 0.4444 - val_loss: 1.5149 - val_accuracy: 0.4269 - lr: 1.0000e-05\n",
      "Epoch 25/100\n",
      "448/448 [============================>.] - ETA: 0s - loss: 1.4381 - accuracy: 0.4475.\n",
      "Epoch 25: saving model to model_weights.h5\n",
      "448/448 [==============================] - 22s 50ms/step - loss: 1.4379 - accuracy: 0.4478 - val_loss: 1.5246 - val_accuracy: 0.4054 - lr: 1.0000e-05\n",
      "Epoch 26/100\n",
      "449/448 [==============================] - ETA: 0s - loss: 1.4255 - accuracy: 0.4548.\n",
      "Epoch 26: saving model to model_weights.h5\n",
      "448/448 [==============================] - 23s 51ms/step - loss: 1.4255 - accuracy: 0.4548 - val_loss: 1.5246 - val_accuracy: 0.4107 - lr: 1.0000e-05\n",
      "Epoch 27/100\n",
      "449/448 [==============================] - ETA: 0s - loss: 1.4139 - accuracy: 0.4654.\n",
      "Epoch 27: saving model to model_weights.h5\n",
      "448/448 [==============================] - 23s 52ms/step - loss: 1.4139 - accuracy: 0.4654 - val_loss: 1.4990 - val_accuracy: 0.4196 - lr: 1.0000e-05\n",
      "Epoch 28/100\n",
      "449/448 [==============================] - ETA: 0s - loss: 1.3911 - accuracy: 0.4700.\n",
      "Epoch 28: saving model to model_weights.h5\n",
      "448/448 [==============================] - 24s 53ms/step - loss: 1.3911 - accuracy: 0.4700 - val_loss: 1.4799 - val_accuracy: 0.4374 - lr: 1.0000e-05\n",
      "Epoch 29/100\n",
      "449/448 [==============================] - ETA: 0s - loss: 1.3872 - accuracy: 0.4668.\n",
      "Epoch 29: saving model to model_weights.h5\n",
      "448/448 [==============================] - 22s 49ms/step - loss: 1.3872 - accuracy: 0.4668 - val_loss: 1.5883 - val_accuracy: 0.3912 - lr: 1.0000e-05\n",
      "Epoch 30/100\n",
      "449/448 [==============================] - ETA: 0s - loss: 1.3790 - accuracy: 0.4744.\n",
      "Epoch 30: saving model to model_weights.h5\n",
      "448/448 [==============================] - 23s 52ms/step - loss: 1.3790 - accuracy: 0.4744 - val_loss: 1.5178 - val_accuracy: 0.4129 - lr: 1.0000e-05\n",
      "Epoch 31/100\n",
      "449/448 [==============================] - ETA: 0s - loss: 1.3699 - accuracy: 0.4816.\n",
      "Epoch 31: saving model to model_weights.h5\n",
      "448/448 [==============================] - 23s 52ms/step - loss: 1.3699 - accuracy: 0.4816 - val_loss: 1.4969 - val_accuracy: 0.4274 - lr: 1.0000e-05\n",
      "Epoch 32/100\n",
      "448/448 [============================>.] - ETA: 0s - loss: 1.3494 - accuracy: 0.4877.\n",
      "Epoch 32: saving model to model_weights.h5\n",
      "448/448 [==============================] - 22s 50ms/step - loss: 1.3497 - accuracy: 0.4876 - val_loss: 1.6242 - val_accuracy: 0.3686 - lr: 1.0000e-05\n",
      "Epoch 33/100\n",
      "449/448 [==============================] - ETA: 0s - loss: 1.3392 - accuracy: 0.4937.\n",
      "Epoch 33: saving model to model_weights.h5\n",
      "448/448 [==============================] - 24s 53ms/step - loss: 1.3392 - accuracy: 0.4937 - val_loss: 1.5267 - val_accuracy: 0.4154 - lr: 1.0000e-05\n",
      "Epoch 34/100\n",
      "449/448 [==============================] - ETA: 0s - loss: 1.3306 - accuracy: 0.4929.\n",
      "Epoch 34: saving model to model_weights.h5\n",
      "448/448 [==============================] - 23s 52ms/step - loss: 1.3306 - accuracy: 0.4929 - val_loss: 1.4680 - val_accuracy: 0.4372 - lr: 1.0000e-05\n",
      "Epoch 35/100\n",
      "448/448 [============================>.] - ETA: 0s - loss: 1.3151 - accuracy: 0.5033.\n",
      "Epoch 35: saving model to model_weights.h5\n",
      "448/448 [==============================] - 23s 51ms/step - loss: 1.3149 - accuracy: 0.5034 - val_loss: 1.5092 - val_accuracy: 0.4191 - lr: 1.0000e-05\n",
      "Epoch 36/100\n",
      "448/448 [============================>.] - ETA: 0s - loss: 1.3052 - accuracy: 0.5046.\n",
      "Epoch 36: saving model to model_weights.h5\n",
      "448/448 [==============================] - 24s 54ms/step - loss: 1.3051 - accuracy: 0.5047 - val_loss: 1.4753 - val_accuracy: 0.4391 - lr: 1.0000e-05\n",
      "Epoch 37/100\n",
      "449/448 [==============================] - ETA: 0s - loss: 1.2966 - accuracy: 0.5099.\n",
      "Epoch 37: saving model to model_weights.h5\n",
      "448/448 [==============================] - 23s 51ms/step - loss: 1.2966 - accuracy: 0.5099 - val_loss: 1.5427 - val_accuracy: 0.4126 - lr: 1.0000e-05\n",
      "Epoch 38/100\n",
      "449/448 [==============================] - ETA: 0s - loss: 1.2756 - accuracy: 0.5174.\n",
      "Epoch 38: saving model to model_weights.h5\n",
      "448/448 [==============================] - 23s 51ms/step - loss: 1.2756 - accuracy: 0.5174 - val_loss: 1.5890 - val_accuracy: 0.4074 - lr: 1.0000e-05\n",
      "Epoch 39/100\n",
      "449/448 [==============================] - ETA: 0s - loss: 1.2691 - accuracy: 0.5206.\n",
      "Epoch 39: saving model to model_weights.h5\n",
      "448/448 [==============================] - 22s 49ms/step - loss: 1.2691 - accuracy: 0.5206 - val_loss: 1.4701 - val_accuracy: 0.4427 - lr: 1.0000e-05\n",
      "Epoch 40/100\n",
      "448/448 [============================>.] - ETA: 0s - loss: 1.2607 - accuracy: 0.5233.\n",
      "Epoch 40: saving model to model_weights.h5\n",
      "448/448 [==============================] - 23s 52ms/step - loss: 1.2607 - accuracy: 0.5233 - val_loss: 1.4802 - val_accuracy: 0.4439 - lr: 1.0000e-05\n",
      "Epoch 41/100\n",
      "449/448 [==============================] - ETA: 0s - loss: 1.2375 - accuracy: 0.5323.\n",
      "Epoch 41: saving model to model_weights.h5\n",
      "448/448 [==============================] - 23s 51ms/step - loss: 1.2375 - accuracy: 0.5323 - val_loss: 1.5719 - val_accuracy: 0.3965 - lr: 1.0000e-05\n",
      "Epoch 42/100\n",
      "449/448 [==============================] - ETA: 0s - loss: 1.2380 - accuracy: 0.5371.\n",
      "Epoch 42: saving model to model_weights.h5\n",
      "448/448 [==============================] - 22s 48ms/step - loss: 1.2380 - accuracy: 0.5371 - val_loss: 1.5314 - val_accuracy: 0.4241 - lr: 1.0000e-05\n",
      "Epoch 43/100\n",
      "448/448 [============================>.] - ETA: 0s - loss: 1.2243 - accuracy: 0.5399.\n",
      "Epoch 43: saving model to model_weights.h5\n",
      "448/448 [==============================] - 23s 52ms/step - loss: 1.2243 - accuracy: 0.5399 - val_loss: 1.4881 - val_accuracy: 0.4436 - lr: 1.0000e-05\n",
      "Epoch 44/100\n",
      "449/448 [==============================] - ETA: 0s - loss: 1.2142 - accuracy: 0.5425.\n",
      "Epoch 44: saving model to model_weights.h5\n",
      "448/448 [==============================] - 23s 52ms/step - loss: 1.2142 - accuracy: 0.5425 - val_loss: 1.4417 - val_accuracy: 0.4600 - lr: 1.0000e-05\n",
      "Epoch 45/100\n",
      "448/448 [============================>.] - ETA: 0s - loss: 1.1996 - accuracy: 0.5533.\n",
      "Epoch 45: saving model to model_weights.h5\n",
      "448/448 [==============================] - 22s 49ms/step - loss: 1.1996 - accuracy: 0.5531 - val_loss: 1.4647 - val_accuracy: 0.4458 - lr: 1.0000e-05\n",
      "Epoch 46/100\n",
      "449/448 [==============================] - ETA: 0s - loss: 1.1876 - accuracy: 0.5537.\n",
      "Epoch 46: saving model to model_weights.h5\n",
      "448/448 [==============================] - 23s 52ms/step - loss: 1.1876 - accuracy: 0.5537 - val_loss: 1.5921 - val_accuracy: 0.4087 - lr: 1.0000e-05\n",
      "Epoch 47/100\n",
      "449/448 [==============================] - ETA: 0s - loss: 1.1762 - accuracy: 0.5600.\n",
      "Epoch 47: saving model to model_weights.h5\n",
      "448/448 [==============================] - 24s 54ms/step - loss: 1.1762 - accuracy: 0.5600 - val_loss: 1.6119 - val_accuracy: 0.3954 - lr: 1.0000e-05\n",
      "Epoch 48/100\n",
      "448/448 [============================>.] - ETA: 0s - loss: 1.1690 - accuracy: 0.5630.\n",
      "Epoch 48: saving model to model_weights.h5\n",
      "448/448 [==============================] - 22s 50ms/step - loss: 1.1690 - accuracy: 0.5630 - val_loss: 1.4503 - val_accuracy: 0.4631 - lr: 1.0000e-05\n",
      "Epoch 49/100\n",
      "448/448 [============================>.] - ETA: 0s - loss: 1.1588 - accuracy: 0.5682.\n",
      "Epoch 49: saving model to model_weights.h5\n",
      "448/448 [==============================] - 23s 51ms/step - loss: 1.1594 - accuracy: 0.5681 - val_loss: 1.4257 - val_accuracy: 0.4700 - lr: 1.0000e-05\n",
      "Epoch 50/100\n",
      "448/448 [============================>.] - ETA: 0s - loss: 1.1429 - accuracy: 0.5725.\n",
      "Epoch 50: saving model to model_weights.h5\n",
      "448/448 [==============================] - 23s 51ms/step - loss: 1.1431 - accuracy: 0.5724 - val_loss: 1.4807 - val_accuracy: 0.4472 - lr: 1.0000e-05\n",
      "Epoch 51/100\n",
      "449/448 [==============================] - ETA: 0s - loss: 1.1343 - accuracy: 0.5760.\n",
      "Epoch 51: saving model to model_weights.h5\n",
      "448/448 [==============================] - 24s 53ms/step - loss: 1.1343 - accuracy: 0.5760 - val_loss: 1.4045 - val_accuracy: 0.4759 - lr: 1.0000e-05\n",
      "Epoch 52/100\n",
      "448/448 [============================>.] - ETA: 0s - loss: 1.1234 - accuracy: 0.5816.\n",
      "Epoch 52: saving model to model_weights.h5\n",
      "448/448 [==============================] - 22s 49ms/step - loss: 1.1233 - accuracy: 0.5817 - val_loss: 1.5068 - val_accuracy: 0.4486 - lr: 1.0000e-05\n",
      "Epoch 53/100\n",
      "449/448 [==============================] - ETA: 0s - loss: 1.1124 - accuracy: 0.5860.\n",
      "Epoch 53: saving model to model_weights.h5\n",
      "448/448 [==============================] - 23s 52ms/step - loss: 1.1124 - accuracy: 0.5860 - val_loss: 1.4278 - val_accuracy: 0.4675 - lr: 1.0000e-05\n",
      "Epoch 54/100\n",
      "449/448 [==============================] - ETA: 0s - loss: 1.1027 - accuracy: 0.5915.\n",
      "Epoch 54: saving model to model_weights.h5\n",
      "448/448 [==============================] - 24s 54ms/step - loss: 1.1027 - accuracy: 0.5915 - val_loss: 1.4068 - val_accuracy: 0.4926 - lr: 1.0000e-05\n",
      "Epoch 55/100\n",
      "449/448 [==============================] - ETA: 0s - loss: 1.0903 - accuracy: 0.5957.\n",
      "Epoch 55: saving model to model_weights.h5\n",
      "448/448 [==============================] - 22s 49ms/step - loss: 1.0903 - accuracy: 0.5957 - val_loss: 1.4515 - val_accuracy: 0.4664 - lr: 1.0000e-05\n",
      "Epoch 56/100\n",
      "448/448 [============================>.] - ETA: 0s - loss: 1.0761 - accuracy: 0.6021.\n",
      "Epoch 56: saving model to model_weights.h5\n",
      "448/448 [==============================] - 23s 52ms/step - loss: 1.0760 - accuracy: 0.6021 - val_loss: 1.4520 - val_accuracy: 0.4687 - lr: 1.0000e-05\n",
      "Epoch 57/100\n",
      "448/448 [============================>.] - ETA: 0s - loss: 1.0739 - accuracy: 0.6025.\n",
      "Epoch 57: saving model to model_weights.h5\n",
      "448/448 [==============================] - 23s 52ms/step - loss: 1.0739 - accuracy: 0.6023 - val_loss: 1.4173 - val_accuracy: 0.4776 - lr: 1.0000e-05\n",
      "Epoch 58/100\n",
      "449/448 [==============================] - ETA: 0s - loss: 1.0602 - accuracy: 0.6048.\n",
      "Epoch 58: saving model to model_weights.h5\n",
      "448/448 [==============================] - 22s 50ms/step - loss: 1.0602 - accuracy: 0.6048 - val_loss: 1.4472 - val_accuracy: 0.4661 - lr: 1.0000e-05\n",
      "Epoch 59/100\n",
      "448/448 [============================>.] - ETA: 0s - loss: 1.0445 - accuracy: 0.6170.\n",
      "Epoch 59: saving model to model_weights.h5\n",
      "448/448 [==============================] - 23s 51ms/step - loss: 1.0444 - accuracy: 0.6170 - val_loss: 1.5596 - val_accuracy: 0.4313 - lr: 1.0000e-05\n",
      "Epoch 60/100\n",
      "449/448 [==============================] - ETA: 0s - loss: 1.0315 - accuracy: 0.6186.\n",
      "Epoch 60: saving model to model_weights.h5\n",
      "448/448 [==============================] - 23s 51ms/step - loss: 1.0315 - accuracy: 0.6186 - val_loss: 1.5723 - val_accuracy: 0.4210 - lr: 1.0000e-05\n",
      "Epoch 61/100\n",
      "448/448 [============================>.] - ETA: 0s - loss: 1.0192 - accuracy: 0.6233.\n",
      "Epoch 61: saving model to model_weights.h5\n",
      "448/448 [==============================] - 22s 50ms/step - loss: 1.0191 - accuracy: 0.6234 - val_loss: 1.4286 - val_accuracy: 0.4901 - lr: 1.0000e-05\n",
      "Epoch 62/100\n",
      "448/448 [============================>.] - ETA: 0s - loss: 1.0150 - accuracy: 0.6277.\n",
      "Epoch 62: saving model to model_weights.h5\n",
      "448/448 [==============================] - 23s 51ms/step - loss: 1.0151 - accuracy: 0.6277 - val_loss: 1.5288 - val_accuracy: 0.4455 - lr: 1.0000e-05\n",
      "Epoch 63/100\n",
      "449/448 [==============================] - ETA: 0s - loss: 1.0065 - accuracy: 0.6310.\n",
      "Epoch 63: saving model to model_weights.h5\n",
      "448/448 [==============================] - 23s 51ms/step - loss: 1.0065 - accuracy: 0.6310 - val_loss: 1.4443 - val_accuracy: 0.4759 - lr: 1.0000e-05\n",
      "Epoch 64/100\n",
      "449/448 [==============================] - ETA: 0s - loss: 0.9939 - accuracy: 0.6332.\n",
      "Epoch 64: saving model to model_weights.h5\n",
      "448/448 [==============================] - 22s 50ms/step - loss: 0.9939 - accuracy: 0.6332 - val_loss: 1.4684 - val_accuracy: 0.4823 - lr: 1.0000e-05\n",
      "Epoch 64: early stopping\n"
     ]
    }
   ]
  },
  {
   "cell_type": "code",
   "source": [
    "test_loss, test_acc = model.evaluate(test_X, test_Y)\n",
    "test_acc"
   ],
   "metadata": {
    "colab": {
     "base_uri": "https://localhost:8080/"
    },
    "id": "Qx6UnMP4u_ns",
    "outputId": "14a894ce-4af0-44d5-dd68-23ae8723fea0"
   },
   "execution_count": null,
   "outputs": [
    {
     "output_type": "stream",
     "name": "stdout",
     "text": [
      "113/113 [==============================] - 2s 17ms/step - loss: 1.4345 - accuracy: 0.4820\n"
     ]
    },
    {
     "output_type": "execute_result",
     "data": {
      "text/plain": [
       "0.48202842473983765"
      ]
     },
     "metadata": {},
     "execution_count": 12
    }
   ]
  },
  {
   "cell_type": "code",
   "source": [
    "fig , ax = plt.subplots(1,2)\n",
    "fig.set_size_inches(20, 8)\n",
    "\n",
    "train_acc = history.history['accuracy']\n",
    "train_loss = history.history['loss']\n",
    "val_acc = history.history['val_accuracy']\n",
    "val_loss = history.history['val_loss']\n",
    "\n",
    "epochs = range(1, len(train_acc) + 1)\n",
    "\n",
    "ax[0].plot(epochs , train_acc , 'g-o' , label = 'Training Accuracy')\n",
    "ax[0].plot(epochs , val_acc , 'y-o' , label = 'Validation Accuracy')\n",
    "ax[0].set_title('Model Training & Validation Accuracy')\n",
    "ax[0].legend(loc = 'lower right')\n",
    "ax[0].set_xlabel(\"Epochs\")\n",
    "ax[0].set_ylabel(\"Accuracy\")\n",
    "\n",
    "ax[1].plot(epochs , train_loss , 'g-o' , label = 'Training Loss')\n",
    "ax[1].plot(epochs , val_loss , 'y-o' , label = 'Validation Loss')\n",
    "ax[1].set_title('Model Training & Validation & Loss')\n",
    "ax[1].legend()\n",
    "ax[1].set_xlabel(\"Epochs\")\n",
    "ax[1].set_ylabel(\"Loss\")\n",
    "\n",
    "plt.show()"
   ],
   "metadata": {
    "colab": {
     "base_uri": "https://localhost:8080/",
     "height": 285
    },
    "id": "iJdj6_d2vAFD",
    "outputId": "091b01ab-65d5-4523-e037-13f1152734b0"
   },
   "execution_count": null,
   "outputs": [
    {
     "output_type": "display_data",
     "data": {
      "text/plain": [
       "<Figure size 1440x576 with 2 Axes>"
      ],
      "image/png": "[encoded data removed]"
     },
     "metadata": {
      "needs_background": "light"
     }
    }
   ]
  },
  {
   "cell_type": "code",
   "source": [
    "model.save('model')\n",
    "model.save('modelh5', save_format='h5')\n",
    "# model = keras.models.load_model(\"model\")"
   ],
   "metadata": {
    "colab": {
     "base_uri": "https://localhost:8080/",
     "height": 400
    },
    "id": "ST0xcjfKvCIH",
    "outputId": "9264c4ac-0d53-42b3-d1c1-0850d4defd96"
   },
   "execution_count": null,
   "outputs": [
    {
     "output_type": "stream",
     "name": "stderr",
     "text": [
      "WARNING:absl:Found untraced functions such as _jit_compiled_convolution_op, _jit_compiled_convolution_op, _jit_compiled_convolution_op, _jit_compiled_convolution_op, _jit_compiled_convolution_op while saving (showing 5 of 82). These functions will not be directly callable after loading.\n"
     ]
    },
    {
     "output_type": "error",
     "ename": "TypeError",
     "evalue": "ignored",
     "traceback": [
      "\u001B[0;31m---------------------------------------------------------------------------\u001B[0m",
      "\u001B[0;31mTypeError\u001B[0m                                 Traceback (most recent call last)",
      "\u001B[0;32m<ipython-input-14-fac6b2c99b95>\u001B[0m in \u001B[0;36m<module>\u001B[0;34m\u001B[0m\n\u001B[0;32m----> 1\u001B[0;31m \u001B[0mmodel\u001B[0m\u001B[0;34m.\u001B[0m\u001B[0msave\u001B[0m\u001B[0;34m(\u001B[0m\u001B[0;34m'model'\u001B[0m\u001B[0;34m)\u001B[0m\u001B[0;34m\u001B[0m\u001B[0;34m\u001B[0m\u001B[0m\n\u001B[0m\u001B[1;32m      2\u001B[0m \u001B[0mmodel\u001B[0m\u001B[0;34m.\u001B[0m\u001B[0msave\u001B[0m\u001B[0;34m(\u001B[0m\u001B[0;34m'modelh5'\u001B[0m\u001B[0;34m,\u001B[0m \u001B[0msave_format\u001B[0m\u001B[0;34m=\u001B[0m\u001B[0;34m'h5'\u001B[0m\u001B[0;34m)\u001B[0m\u001B[0;34m\u001B[0m\u001B[0;34m\u001B[0m\u001B[0m\n\u001B[1;32m      3\u001B[0m \u001B[0;31m# model = keras.models.load_model(\"model\")\u001B[0m\u001B[0;34m\u001B[0m\u001B[0;34m\u001B[0m\u001B[0;34m\u001B[0m\u001B[0m\n",
      "\u001B[0;32m/usr/local/lib/python3.8/dist-packages/keras/utils/traceback_utils.py\u001B[0m in \u001B[0;36merror_handler\u001B[0;34m(*args, **kwargs)\u001B[0m\n\u001B[1;32m     68\u001B[0m             \u001B[0;31m# To get the full stack trace, call:\u001B[0m\u001B[0;34m\u001B[0m\u001B[0;34m\u001B[0m\u001B[0;34m\u001B[0m\u001B[0m\n\u001B[1;32m     69\u001B[0m             \u001B[0;31m# `tf.debugging.disable_traceback_filtering()`\u001B[0m\u001B[0;34m\u001B[0m\u001B[0;34m\u001B[0m\u001B[0;34m\u001B[0m\u001B[0m\n\u001B[0;32m---> 70\u001B[0;31m             \u001B[0;32mraise\u001B[0m \u001B[0me\u001B[0m\u001B[0;34m.\u001B[0m\u001B[0mwith_traceback\u001B[0m\u001B[0;34m(\u001B[0m\u001B[0mfiltered_tb\u001B[0m\u001B[0;34m)\u001B[0m \u001B[0;32mfrom\u001B[0m \u001B[0;32mNone\u001B[0m\u001B[0;34m\u001B[0m\u001B[0;34m\u001B[0m\u001B[0m\n\u001B[0m\u001B[1;32m     71\u001B[0m         \u001B[0;32mfinally\u001B[0m\u001B[0;34m:\u001B[0m\u001B[0;34m\u001B[0m\u001B[0;34m\u001B[0m\u001B[0m\n\u001B[1;32m     72\u001B[0m             \u001B[0;32mdel\u001B[0m \u001B[0mfiltered_tb\u001B[0m\u001B[0;34m\u001B[0m\u001B[0;34m\u001B[0m\u001B[0m\n",
      "\u001B[0;32m/usr/lib/python3.8/json/encoder.py\u001B[0m in \u001B[0;36mencode\u001B[0;34m(self, o)\u001B[0m\n\u001B[1;32m    197\u001B[0m         \u001B[0;31m# exceptions aren't as detailed.  The list call should be roughly\u001B[0m\u001B[0;34m\u001B[0m\u001B[0;34m\u001B[0m\u001B[0;34m\u001B[0m\u001B[0m\n\u001B[1;32m    198\u001B[0m         \u001B[0;31m# equivalent to the PySequence_Fast that ''.join() would do.\u001B[0m\u001B[0;34m\u001B[0m\u001B[0;34m\u001B[0m\u001B[0;34m\u001B[0m\u001B[0m\n\u001B[0;32m--> 199\u001B[0;31m         \u001B[0mchunks\u001B[0m \u001B[0;34m=\u001B[0m \u001B[0mself\u001B[0m\u001B[0;34m.\u001B[0m\u001B[0miterencode\u001B[0m\u001B[0;34m(\u001B[0m\u001B[0mo\u001B[0m\u001B[0;34m,\u001B[0m \u001B[0m_one_shot\u001B[0m\u001B[0;34m=\u001B[0m\u001B[0;32mTrue\u001B[0m\u001B[0;34m)\u001B[0m\u001B[0;34m\u001B[0m\u001B[0;34m\u001B[0m\u001B[0m\n\u001B[0m\u001B[1;32m    200\u001B[0m         \u001B[0;32mif\u001B[0m \u001B[0;32mnot\u001B[0m \u001B[0misinstance\u001B[0m\u001B[0;34m(\u001B[0m\u001B[0mchunks\u001B[0m\u001B[0;34m,\u001B[0m \u001B[0;34m(\u001B[0m\u001B[0mlist\u001B[0m\u001B[0;34m,\u001B[0m \u001B[0mtuple\u001B[0m\u001B[0;34m)\u001B[0m\u001B[0;34m)\u001B[0m\u001B[0;34m:\u001B[0m\u001B[0;34m\u001B[0m\u001B[0;34m\u001B[0m\u001B[0m\n\u001B[1;32m    201\u001B[0m             \u001B[0mchunks\u001B[0m \u001B[0;34m=\u001B[0m \u001B[0mlist\u001B[0m\u001B[0;34m(\u001B[0m\u001B[0mchunks\u001B[0m\u001B[0;34m)\u001B[0m\u001B[0;34m\u001B[0m\u001B[0;34m\u001B[0m\u001B[0m\n",
      "\u001B[0;32m/usr/lib/python3.8/json/encoder.py\u001B[0m in \u001B[0;36miterencode\u001B[0;34m(self, o, _one_shot)\u001B[0m\n\u001B[1;32m    255\u001B[0m                 \u001B[0mself\u001B[0m\u001B[0;34m.\u001B[0m\u001B[0mkey_separator\u001B[0m\u001B[0;34m,\u001B[0m \u001B[0mself\u001B[0m\u001B[0;34m.\u001B[0m\u001B[0mitem_separator\u001B[0m\u001B[0;34m,\u001B[0m \u001B[0mself\u001B[0m\u001B[0;34m.\u001B[0m\u001B[0msort_keys\u001B[0m\u001B[0;34m,\u001B[0m\u001B[0;34m\u001B[0m\u001B[0;34m\u001B[0m\u001B[0m\n\u001B[1;32m    256\u001B[0m                 self.skipkeys, _one_shot)\n\u001B[0;32m--> 257\u001B[0;31m         \u001B[0;32mreturn\u001B[0m \u001B[0m_iterencode\u001B[0m\u001B[0;34m(\u001B[0m\u001B[0mo\u001B[0m\u001B[0;34m,\u001B[0m \u001B[0;36m0\u001B[0m\u001B[0;34m)\u001B[0m\u001B[0;34m\u001B[0m\u001B[0;34m\u001B[0m\u001B[0m\n\u001B[0m\u001B[1;32m    258\u001B[0m \u001B[0;34m\u001B[0m\u001B[0m\n\u001B[1;32m    259\u001B[0m def _make_iterencode(markers, _default, _encoder, _indent, _floatstr,\n",
      "\u001B[0;31mTypeError\u001B[0m: Unable to serialize [2.0896919 2.1128857 2.1081853] to JSON. Unrecognized type <class 'tensorflow.python.framework.ops.EagerTensor'>."
     ]
    }
   ]
  },
  {
   "cell_type": "code",
   "source": [
    "#make prediction\n",
    "test_y = np.argmax(test_Y, axis=1)\n",
    "test_yhat = np.argmax(model.predict(test_X), axis=1)"
   ],
   "metadata": {
    "colab": {
     "base_uri": "https://localhost:8080/"
    },
    "id": "bNRFtcKivGPY",
    "outputId": "8cddb818-cf1c-4602-f946-de1a45735ffc"
   },
   "execution_count": null,
   "outputs": [
    {
     "output_type": "stream",
     "name": "stdout",
     "text": [
      "113/113 [==============================] - 3s 11ms/step\n"
     ]
    }
   ]
  },
  {
   "cell_type": "code",
   "source": [
    "emotions = {\n",
    "    0: 'Angry',\n",
    "    1: 'Disgust',\n",
    "    2: 'Fear',\n",
    "    3: 'Happy',\n",
    "    4: 'Sad',\n",
    "    5: 'Suprise',\n",
    "    6: 'Neutral'\n",
    "}\n",
    "\n",
    "#get confusion matrix\n",
    "cm = confusion_matrix(test_y, test_yhat)\n",
    "print(cm)\n",
    "\n",
    "fig, ax = plot_confusion_matrix(conf_mat=cm,\n",
    "                                show_normed=True,\n",
    "                                show_absolute=False,\n",
    "                                class_names=emotions.values(),\n",
    "                                figsize=(8, 8))\n",
    "fig.show()"
   ],
   "metadata": {
    "colab": {
     "base_uri": "https://localhost:8080/",
     "height": 642
    },
    "id": "zOuCttAcvJG4",
    "outputId": "ae982609-1f98-4ed1-8265-499e65c117dc"
   },
   "execution_count": null,
   "outputs": [
    {
     "output_type": "stream",
     "name": "stdout",
     "text": [
      "[[154   0  53  67  88  35  94]\n",
      " [ 12   5   3   5  22   3   5]\n",
      " [ 56   0 152  54 113  64  89]\n",
      " [ 44   0  36 616  73  31  79]\n",
      " [ 63   0  73  61 229  24 144]\n",
      " [ 18   0  52  25  27 263  31]\n",
      " [ 45   0  55  80 100  35 311]]\n"
     ]
    },
    {
     "output_type": "display_data",
     "data": {
      "text/plain": [
       "<Figure size 576x576 with 1 Axes>"
      ],
      "image/png": "[encoded data removed]"
     },
     "metadata": {
      "needs_background": "light"
     }
    }
   ]
  },
  {
   "cell_type": "code",
   "source": [
    "!zip -r /content/model_04.zip /content/model"
   ],
   "metadata": {
    "id": "4ZuUxTKpwTj5"
   },
   "execution_count": null,
   "outputs": []
  }
 ]
}
