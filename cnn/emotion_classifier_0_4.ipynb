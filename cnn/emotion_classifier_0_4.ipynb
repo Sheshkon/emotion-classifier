{
  "nbformat": 4,
  "nbformat_minor": 0,
  "metadata": {
    "colab": {
      "provenance": []
    },
    "kernelspec": {
      "name": "python3",
      "display_name": "Python 3"
    },
    "language_info": {
      "name": "python"
    },
    "accelerator": "GPU",
    "gpuClass": "standard"
  },
  "cells": [
    {
      "cell_type": "code",
      "execution_count": 1,
      "metadata": {
        "colab": {
          "base_uri": "https://localhost:8080/"
        },
        "id": "XLs3xGlGuZuI",
        "outputId": "07da5992-9e9f-49fb-b70b-144fc36d0386"
      },
      "outputs": [
        {
          "output_type": "stream",
          "name": "stdout",
          "text": [
            "Mounted at /content/gdrive/\n"
          ]
        }
      ],
      "source": [
        "from google.colab import drive\n",
        "\n",
        "drive.mount('/content/gdrive/')"
      ]
    },
    {
      "cell_type": "code",
      "source": [
        "!unzip \"gdrive/MyDrive/datasets/challenges-in-representation-learning-facial-expression-recognition-challenge.zip\" -d 'datasets'"
      ],
      "metadata": {
        "colab": {
          "base_uri": "https://localhost:8080/"
        },
        "id": "YChaEdmSucNl",
        "outputId": "19d558af-c194-4b48-a4b5-22d55090ce2c"
      },
      "execution_count": 2,
      "outputs": [
        {
          "output_type": "stream",
          "name": "stdout",
          "text": [
            "Archive:  gdrive/MyDrive/datasets/challenges-in-representation-learning-facial-expression-recognition-challenge.zip\n",
            "  inflating: datasets/example_submission.csv  \n",
            "  inflating: datasets/fer2013.tar.gz  \n",
            "  inflating: datasets/icml_face_data.csv  \n",
            "  inflating: datasets/test.csv       \n",
            "  inflating: datasets/train.csv      \n"
          ]
        }
      ]
    },
    {
      "cell_type": "code",
      "source": [
        "import pandas as pd\n",
        "import numpy as np\n",
        "\n",
        "import seaborn as sns\n",
        "import matplotlib.pyplot as plt\n",
        "\n",
        "from typing import Tuple\n",
        "\n",
        "from tensorflow.keras.preprocessing.image import ImageDataGenerator\n",
        "import tensorflow.keras as keras\n",
        "\n",
        "from tensorflow.keras import layers\n",
        "from tensorflow.keras.models import Model, Sequential\n",
        "from tensorflow.keras.optimizers import Adam\n",
        "\n",
        "from tensorflow.keras.utils import plot_model\n",
        "\n",
        "!pip install git+https://github.com/tensorflow/docs\n",
        "\n",
        "from tensorflow.keras.callbacks import EarlyStopping, ModelCheckpoint, ReduceLROnPlateau\n",
        "import tensorflow_docs as tfdocs\n",
        "import tensorflow_docs.modeling\n",
        "import tensorflow_docs.plots\n",
        "\n",
        "!pip install mlxtend --upgrade --no-deps\n",
        "import mlxtend                                                      \n",
        "print(mlxtend.__version__) \n",
        "\n",
        "from mlxtend.plotting import plot_confusion_matrix\n",
        "from sklearn.metrics import confusion_matrix\n",
        "\n",
        "from sklearn.utils.class_weight import compute_class_weight\n",
        "from sklearn.preprocessing import LabelEncoder\n",
        "\n",
        "from keras.layers import Dense, Dropout, Activation, Flatten\n",
        "from keras.layers import Conv2D, MaxPooling2D, BatchNormalization"
      ],
      "metadata": {
        "colab": {
          "base_uri": "https://localhost:8080/"
        },
        "id": "mCbUYoW3uh4e",
        "outputId": "00d6e793-b1ba-4001-88c4-731bae0f4a76"
      },
      "execution_count": 18,
      "outputs": [
        {
          "output_type": "stream",
          "name": "stdout",
          "text": [
            "Looking in indexes: https://pypi.org/simple, https://us-python.pkg.dev/colab-wheels/public/simple/\n",
            "Collecting git+https://github.com/tensorflow/docs\n",
            "  Cloning https://github.com/tensorflow/docs to /tmp/pip-req-build-zvi1w9ak\n",
            "  Running command git clone --filter=blob:none --quiet https://github.com/tensorflow/docs /tmp/pip-req-build-zvi1w9ak\n",
            "  Resolved https://github.com/tensorflow/docs to commit c1510dc5ad73aa829249822798e6263360b0f62a\n",
            "  Preparing metadata (setup.py) ... \u001b[?25l\u001b[?25hdone\n",
            "Requirement already satisfied: astor in /usr/local/lib/python3.8/dist-packages (from tensorflow-docs==0.0.0.dev0) (0.8.1)\n",
            "Requirement already satisfied: absl-py in /usr/local/lib/python3.8/dist-packages (from tensorflow-docs==0.0.0.dev0) (1.4.0)\n",
            "Requirement already satisfied: jinja2 in /usr/local/lib/python3.8/dist-packages (from tensorflow-docs==0.0.0.dev0) (2.11.3)\n",
            "Requirement already satisfied: nbformat in /usr/local/lib/python3.8/dist-packages (from tensorflow-docs==0.0.0.dev0) (5.7.3)\n",
            "Requirement already satisfied: protobuf<3.20,>=3.12.0 in /usr/local/lib/python3.8/dist-packages (from tensorflow-docs==0.0.0.dev0) (3.19.6)\n",
            "Requirement already satisfied: pyyaml in /usr/local/lib/python3.8/dist-packages (from tensorflow-docs==0.0.0.dev0) (6.0)\n",
            "Requirement already satisfied: MarkupSafe>=0.23 in /usr/local/lib/python3.8/dist-packages (from jinja2->tensorflow-docs==0.0.0.dev0) (2.0.1)\n",
            "Requirement already satisfied: fastjsonschema in /usr/local/lib/python3.8/dist-packages (from nbformat->tensorflow-docs==0.0.0.dev0) (2.16.2)\n",
            "Requirement already satisfied: jsonschema>=2.6 in /usr/local/lib/python3.8/dist-packages (from nbformat->tensorflow-docs==0.0.0.dev0) (4.3.3)\n",
            "Requirement already satisfied: traitlets>=5.1 in /usr/local/lib/python3.8/dist-packages (from nbformat->tensorflow-docs==0.0.0.dev0) (5.7.1)\n",
            "Requirement already satisfied: jupyter-core in /usr/local/lib/python3.8/dist-packages (from nbformat->tensorflow-docs==0.0.0.dev0) (5.2.0)\n",
            "Requirement already satisfied: attrs>=17.4.0 in /usr/local/lib/python3.8/dist-packages (from jsonschema>=2.6->nbformat->tensorflow-docs==0.0.0.dev0) (22.2.0)\n",
            "Requirement already satisfied: importlib-resources>=1.4.0 in /usr/local/lib/python3.8/dist-packages (from jsonschema>=2.6->nbformat->tensorflow-docs==0.0.0.dev0) (5.10.2)\n",
            "Requirement already satisfied: pyrsistent!=0.17.0,!=0.17.1,!=0.17.2,>=0.14.0 in /usr/local/lib/python3.8/dist-packages (from jsonschema>=2.6->nbformat->tensorflow-docs==0.0.0.dev0) (0.19.3)\n",
            "Requirement already satisfied: platformdirs>=2.5 in /usr/local/lib/python3.8/dist-packages (from jupyter-core->nbformat->tensorflow-docs==0.0.0.dev0) (3.0.0)\n",
            "Requirement already satisfied: zipp>=3.1.0 in /usr/local/lib/python3.8/dist-packages (from importlib-resources>=1.4.0->jsonschema>=2.6->nbformat->tensorflow-docs==0.0.0.dev0) (3.12.1)\n",
            "Looking in indexes: https://pypi.org/simple, https://us-python.pkg.dev/colab-wheels/public/simple/\n",
            "Requirement already satisfied: mlxtend in /usr/local/lib/python3.8/dist-packages (0.21.0)\n",
            "0.21.0\n"
          ]
        }
      ]
    },
    {
      "cell_type": "code",
      "source": [
        "root_dir = '/content/datasets/'\n",
        "full_data_file_name = 'icml_face_data.csv'\n",
        "train_data_file_name = 'train.csv'\n",
        "test_data_file_name = 'test.csv'"
      ],
      "metadata": {
        "id": "9ifrVe7OunW7"
      },
      "execution_count": 19,
      "outputs": []
    },
    {
      "cell_type": "code",
      "source": [
        "df = pd.read_csv(root_dir + full_data_file_name)\n",
        "df.columns = ('emotion', 'Usage', 'pixels')\n",
        "df.head()"
      ],
      "metadata": {
        "colab": {
          "base_uri": "https://localhost:8080/",
          "height": 206
        },
        "id": "WLV6CRGBuoJE",
        "outputId": "38d53c34-4d92-4f94-8db2-f0777b89ccb5"
      },
      "execution_count": 20,
      "outputs": [
        {
          "output_type": "execute_result",
          "data": {
            "text/plain": [
              "   emotion     Usage                                             pixels\n",
              "0        0  Training  70 80 82 72 58 58 60 63 54 58 60 48 89 115 121...\n",
              "1        0  Training  151 150 147 155 148 133 111 140 170 174 182 15...\n",
              "2        2  Training  231 212 156 164 174 138 161 173 182 200 106 38...\n",
              "3        4  Training  24 32 36 30 32 23 19 20 30 41 21 22 32 34 21 1...\n",
              "4        6  Training  4 0 0 0 0 0 0 0 0 0 0 0 3 15 23 28 48 50 58 84..."
            ],
            "text/html": [
              "\n",
              "  <div id=\"df-98d5fb0d-a80e-45e3-8c1f-4d9585b2f262\">\n",
              "    <div class=\"colab-df-container\">\n",
              "      <div>\n",
              "<style scoped>\n",
              "    .dataframe tbody tr th:only-of-type {\n",
              "        vertical-align: middle;\n",
              "    }\n",
              "\n",
              "    .dataframe tbody tr th {\n",
              "        vertical-align: top;\n",
              "    }\n",
              "\n",
              "    .dataframe thead th {\n",
              "        text-align: right;\n",
              "    }\n",
              "</style>\n",
              "<table border=\"1\" class=\"dataframe\">\n",
              "  <thead>\n",
              "    <tr style=\"text-align: right;\">\n",
              "      <th></th>\n",
              "      <th>emotion</th>\n",
              "      <th>Usage</th>\n",
              "      <th>pixels</th>\n",
              "    </tr>\n",
              "  </thead>\n",
              "  <tbody>\n",
              "    <tr>\n",
              "      <th>0</th>\n",
              "      <td>0</td>\n",
              "      <td>Training</td>\n",
              "      <td>70 80 82 72 58 58 60 63 54 58 60 48 89 115 121...</td>\n",
              "    </tr>\n",
              "    <tr>\n",
              "      <th>1</th>\n",
              "      <td>0</td>\n",
              "      <td>Training</td>\n",
              "      <td>151 150 147 155 148 133 111 140 170 174 182 15...</td>\n",
              "    </tr>\n",
              "    <tr>\n",
              "      <th>2</th>\n",
              "      <td>2</td>\n",
              "      <td>Training</td>\n",
              "      <td>231 212 156 164 174 138 161 173 182 200 106 38...</td>\n",
              "    </tr>\n",
              "    <tr>\n",
              "      <th>3</th>\n",
              "      <td>4</td>\n",
              "      <td>Training</td>\n",
              "      <td>24 32 36 30 32 23 19 20 30 41 21 22 32 34 21 1...</td>\n",
              "    </tr>\n",
              "    <tr>\n",
              "      <th>4</th>\n",
              "      <td>6</td>\n",
              "      <td>Training</td>\n",
              "      <td>4 0 0 0 0 0 0 0 0 0 0 0 3 15 23 28 48 50 58 84...</td>\n",
              "    </tr>\n",
              "  </tbody>\n",
              "</table>\n",
              "</div>\n",
              "      <button class=\"colab-df-convert\" onclick=\"convertToInteractive('df-98d5fb0d-a80e-45e3-8c1f-4d9585b2f262')\"\n",
              "              title=\"Convert this dataframe to an interactive table.\"\n",
              "              style=\"display:none;\">\n",
              "        \n",
              "  <svg xmlns=\"http://www.w3.org/2000/svg\" height=\"24px\"viewBox=\"0 0 24 24\"\n",
              "       width=\"24px\">\n",
              "    <path d=\"M0 0h24v24H0V0z\" fill=\"none\"/>\n",
              "    <path d=\"M18.56 5.44l.94 2.06.94-2.06 2.06-.94-2.06-.94-.94-2.06-.94 2.06-2.06.94zm-11 1L8.5 8.5l.94-2.06 2.06-.94-2.06-.94L8.5 2.5l-.94 2.06-2.06.94zm10 10l.94 2.06.94-2.06 2.06-.94-2.06-.94-.94-2.06-.94 2.06-2.06.94z\"/><path d=\"M17.41 7.96l-1.37-1.37c-.4-.4-.92-.59-1.43-.59-.52 0-1.04.2-1.43.59L10.3 9.45l-7.72 7.72c-.78.78-.78 2.05 0 2.83L4 21.41c.39.39.9.59 1.41.59.51 0 1.02-.2 1.41-.59l7.78-7.78 2.81-2.81c.8-.78.8-2.07 0-2.86zM5.41 20L4 18.59l7.72-7.72 1.47 1.35L5.41 20z\"/>\n",
              "  </svg>\n",
              "      </button>\n",
              "      \n",
              "  <style>\n",
              "    .colab-df-container {\n",
              "      display:flex;\n",
              "      flex-wrap:wrap;\n",
              "      gap: 12px;\n",
              "    }\n",
              "\n",
              "    .colab-df-convert {\n",
              "      background-color: #E8F0FE;\n",
              "      border: none;\n",
              "      border-radius: 50%;\n",
              "      cursor: pointer;\n",
              "      display: none;\n",
              "      fill: #1967D2;\n",
              "      height: 32px;\n",
              "      padding: 0 0 0 0;\n",
              "      width: 32px;\n",
              "    }\n",
              "\n",
              "    .colab-df-convert:hover {\n",
              "      background-color: #E2EBFA;\n",
              "      box-shadow: 0px 1px 2px rgba(60, 64, 67, 0.3), 0px 1px 3px 1px rgba(60, 64, 67, 0.15);\n",
              "      fill: #174EA6;\n",
              "    }\n",
              "\n",
              "    [theme=dark] .colab-df-convert {\n",
              "      background-color: #3B4455;\n",
              "      fill: #D2E3FC;\n",
              "    }\n",
              "\n",
              "    [theme=dark] .colab-df-convert:hover {\n",
              "      background-color: #434B5C;\n",
              "      box-shadow: 0px 1px 3px 1px rgba(0, 0, 0, 0.15);\n",
              "      filter: drop-shadow(0px 1px 2px rgba(0, 0, 0, 0.3));\n",
              "      fill: #FFFFFF;\n",
              "    }\n",
              "  </style>\n",
              "\n",
              "      <script>\n",
              "        const buttonEl =\n",
              "          document.querySelector('#df-98d5fb0d-a80e-45e3-8c1f-4d9585b2f262 button.colab-df-convert');\n",
              "        buttonEl.style.display =\n",
              "          google.colab.kernel.accessAllowed ? 'block' : 'none';\n",
              "\n",
              "        async function convertToInteractive(key) {\n",
              "          const element = document.querySelector('#df-98d5fb0d-a80e-45e3-8c1f-4d9585b2f262');\n",
              "          const dataTable =\n",
              "            await google.colab.kernel.invokeFunction('convertToInteractive',\n",
              "                                                     [key], {});\n",
              "          if (!dataTable) return;\n",
              "\n",
              "          const docLinkHtml = 'Like what you see? Visit the ' +\n",
              "            '<a target=\"_blank\" href=https://colab.research.google.com/notebooks/data_table.ipynb>data table notebook</a>'\n",
              "            + ' to learn more about interactive tables.';\n",
              "          element.innerHTML = '';\n",
              "          dataTable['output_type'] = 'display_data';\n",
              "          await google.colab.output.renderOutput(dataTable, element);\n",
              "          const docLink = document.createElement('div');\n",
              "          docLink.innerHTML = docLinkHtml;\n",
              "          element.appendChild(docLink);\n",
              "        }\n",
              "      </script>\n",
              "    </div>\n",
              "  </div>\n",
              "  "
            ]
          },
          "metadata": {},
          "execution_count": 20
        }
      ]
    },
    {
      "cell_type": "code",
      "source": [
        "#split data into training, validation and test set\n",
        "data_train = df[df['Usage']=='Training'].copy()\n",
        "data_val   = df[df['Usage']=='PublicTest'].copy()\n",
        "data_test  = df[df['Usage']=='PrivateTest'].copy()\n",
        "print(\"train shape: {}, \\nvalidation shape: {}, \\ntest shape: {}\".format(data_train.shape, data_val.shape, data_test.shape))"
      ],
      "metadata": {
        "colab": {
          "base_uri": "https://localhost:8080/"
        },
        "id": "oEWzmncQusOz",
        "outputId": "2038ce5a-15ae-4860-d528-90d9cf0281d6"
      },
      "execution_count": 21,
      "outputs": [
        {
          "output_type": "stream",
          "name": "stdout",
          "text": [
            "train shape: (28709, 3), \n",
            "validation shape: (3589, 3), \n",
            "test shape: (3589, 3)\n"
          ]
        }
      ]
    },
    {
      "cell_type": "code",
      "source": [
        "num_classes = 7 \n",
        "width, height = 48, 48\n",
        "num_epochs = 50\n",
        "batch_size = 64\n",
        "num_features = 64"
      ],
      "metadata": {
        "id": "MjAugB5quyLm"
      },
      "execution_count": 22,
      "outputs": []
    },
    {
      "cell_type": "code",
      "source": [
        "# CRNO stands for Convert, Reshape, Normalize, One-hot encoding\n",
        "# (i) convert strings to lists of integers\n",
        "# (ii) reshape and normalise grayscale image with 255.0\n",
        "# (iii) one-hot encoding label, e.g. class 3 to [0,0,0,1,0,0,0]\n",
        "\n",
        "def CRNO(df, dataName):\n",
        "    df['pixels'] = df['pixels'].apply(lambda pixel_sequence: [int(pixel) for pixel in pixel_sequence.split()])\n",
        "    data_X = np.array(df['pixels'].tolist(), dtype='float32').reshape(-1,width, height,1)/255.0   \n",
        "    data_Y = keras.utils.to_categorical(df['emotion'], num_classes)  \n",
        "    print(dataName, \"_X shape: {}, \", dataName, \"_Y shape: {}\".format(data_X.shape, data_Y.shape))\n",
        "    return data_X, data_Y\n",
        "\n",
        "    \n",
        "train_X, train_Y = CRNO(data_train, \"train\") #training data\n",
        "val_X, val_Y     = CRNO(data_val, \"val\") #validation data\n",
        "test_X, test_Y   = CRNO(data_test, \"test\") #test data"
      ],
      "metadata": {
        "colab": {
          "base_uri": "https://localhost:8080/"
        },
        "id": "oFSpAeASuvcq",
        "outputId": "b62f15e3-2068-451d-ed93-71816596ce1c"
      },
      "execution_count": 23,
      "outputs": [
        {
          "output_type": "stream",
          "name": "stdout",
          "text": [
            "train _X shape: {},  train _Y shape: (28709, 48, 48, 1)\n",
            "val _X shape: {},  val _Y shape: (3589, 48, 48, 1)\n",
            "test _X shape: {},  test _Y shape: (3589, 48, 48, 1)\n"
          ]
        }
      ]
    },
    {
      "cell_type": "code",
      "source": [
        "inputs = keras.Input(shape=(48, 48, 1), name=\"img\")\n",
        "x = layers.Conv2D(32, 3, activation=\"relu\")(inputs)\n",
        "x = layers.Conv2D(64, 3, activation=\"relu\")(x)\n",
        "block_1_output = layers.MaxPooling2D(3)(x)\n",
        "\n",
        "x = layers.Conv2D(64, 3, activation=\"relu\", padding=\"same\")(block_1_output)\n",
        "x = layers.Conv2D(64, 3, activation=\"relu\", padding=\"same\")(x)\n",
        "block_2_output = layers.add([x, block_1_output])\n",
        "\n",
        "x = layers.Conv2D(64, 3, activation=\"relu\", padding=\"same\")(block_2_output)\n",
        "x = layers.Conv2D(64, 3, activation=\"relu\", padding=\"same\")(x)\n",
        "block_3_output = layers.add([x, block_2_output])\n",
        "\n",
        "x = layers.Conv2D(64, 3, activation=\"relu\")(block_3_output)\n",
        "x = layers.GlobalAveragePooling2D()(x)\n",
        "x = layers.Dense(256, activation=\"relu\")(x)\n",
        "x = layers.Dropout(0.5)(x)\n",
        "outputs = layers.Dense(7, activation='softmax')(x)\n",
        "\n",
        "model = keras.Model(inputs, outputs, name=\"toy_resnet\")\n",
        "model.summary()\n",
        "\n",
        "model.compile(optimizer='adam',\n",
        "             loss='categorical_crossentropy',\n",
        "             metrics=['accuracy'])"
      ],
      "metadata": {
        "colab": {
          "base_uri": "https://localhost:8080/"
        },
        "id": "bxcPfmjAu8Bk",
        "outputId": "6b70d7a0-b81e-4868-f512-c7e74d71f6d0"
      },
      "execution_count": 24,
      "outputs": [
        {
          "output_type": "stream",
          "name": "stdout",
          "text": [
            "Model: \"toy_resnet\"\n",
            "__________________________________________________________________________________________________\n",
            " Layer (type)                   Output Shape         Param #     Connected to                     \n",
            "==================================================================================================\n",
            " img (InputLayer)               [(None, 48, 48, 1)]  0           []                               \n",
            "                                                                                                  \n",
            " conv2d_7 (Conv2D)              (None, 46, 46, 32)   320         ['img[0][0]']                    \n",
            "                                                                                                  \n",
            " conv2d_8 (Conv2D)              (None, 44, 44, 64)   18496       ['conv2d_7[0][0]']               \n",
            "                                                                                                  \n",
            " max_pooling2d_1 (MaxPooling2D)  (None, 14, 14, 64)  0           ['conv2d_8[0][0]']               \n",
            "                                                                                                  \n",
            " conv2d_9 (Conv2D)              (None, 14, 14, 64)   36928       ['max_pooling2d_1[0][0]']        \n",
            "                                                                                                  \n",
            " conv2d_10 (Conv2D)             (None, 14, 14, 64)   36928       ['conv2d_9[0][0]']               \n",
            "                                                                                                  \n",
            " add_2 (Add)                    (None, 14, 14, 64)   0           ['conv2d_10[0][0]',              \n",
            "                                                                  'max_pooling2d_1[0][0]']        \n",
            "                                                                                                  \n",
            " conv2d_11 (Conv2D)             (None, 14, 14, 64)   36928       ['add_2[0][0]']                  \n",
            "                                                                                                  \n",
            " conv2d_12 (Conv2D)             (None, 14, 14, 64)   36928       ['conv2d_11[0][0]']              \n",
            "                                                                                                  \n",
            " add_3 (Add)                    (None, 14, 14, 64)   0           ['conv2d_12[0][0]',              \n",
            "                                                                  'add_2[0][0]']                  \n",
            "                                                                                                  \n",
            " conv2d_13 (Conv2D)             (None, 12, 12, 64)   36928       ['add_3[0][0]']                  \n",
            "                                                                                                  \n",
            " global_average_pooling2d_1 (Gl  (None, 64)          0           ['conv2d_13[0][0]']              \n",
            " obalAveragePooling2D)                                                                            \n",
            "                                                                                                  \n",
            " dense_2 (Dense)                (None, 256)          16640       ['global_average_pooling2d_1[0][0\n",
            "                                                                 ]']                              \n",
            "                                                                                                  \n",
            " dropout_1 (Dropout)            (None, 256)          0           ['dense_2[0][0]']                \n",
            "                                                                                                  \n",
            " dense_3 (Dense)                (None, 7)            1799        ['dropout_1[0][0]']              \n",
            "                                                                                                  \n",
            "==================================================================================================\n",
            "Total params: 221,895\n",
            "Trainable params: 221,895\n",
            "Non-trainable params: 0\n",
            "__________________________________________________________________________________________________\n"
          ]
        }
      ]
    },
    {
      "cell_type": "code",
      "source": [
        "# data generator\n",
        "data_generator = ImageDataGenerator(\n",
        "                        featurewise_center=False,\n",
        "                        featurewise_std_normalization=False,\n",
        "                        rotation_range=25,\n",
        "                        width_shift_range=0.1,\n",
        "                        height_shift_range=0.1,\n",
        "                        zoom_range=.1,\n",
        "                        horizontal_flip=True)\n",
        "\n",
        "\n",
        "es = EarlyStopping(monitor='val_loss', patience = 10, mode = 'min', restore_best_weights=True)\n",
        "class_weight = dict(zip(range(0, 7), (((df[df['Usage']=='Training']['emotion'].value_counts()).sort_index())/len(df[df['Usage']=='Training']['emotion'])).tolist()))\n",
        "\n",
        "history = model.fit_generator(data_generator.flow(train_X, train_Y, batch_size),\n",
        "                                steps_per_epoch=len(train_X) / batch_size,\n",
        "                                epochs=num_epochs,\n",
        "                                verbose=1, \n",
        "                                callbacks = [es],\n",
        "                                class_weight=class_weight,\n",
        "                                validation_data=(val_X, val_Y))"
      ],
      "metadata": {
        "colab": {
          "base_uri": "https://localhost:8080/"
        },
        "id": "GO0994fYu8N5",
        "outputId": "0ffbe694-3258-4184-eb1e-448974787d9b"
      },
      "execution_count": 25,
      "outputs": [
        {
          "output_type": "stream",
          "name": "stdout",
          "text": [
            "Epoch 1/50\n"
          ]
        },
        {
          "output_type": "stream",
          "name": "stderr",
          "text": [
            "<ipython-input-25-d51dd37cdb9a>:15: UserWarning: `Model.fit_generator` is deprecated and will be removed in a future version. Please use `Model.fit`, which supports generators.\n",
            "  history = model.fit_generator(data_generator.flow(train_X, train_Y, batch_size),\n"
          ]
        },
        {
          "output_type": "stream",
          "name": "stdout",
          "text": [
            "448/448 [==============================] - 21s 37ms/step - loss: 0.2911 - accuracy: 0.2514 - val_loss: 1.8053 - val_accuracy: 0.2502\n",
            "Epoch 2/50\n",
            "448/448 [==============================] - 16s 37ms/step - loss: 0.2852 - accuracy: 0.2525 - val_loss: 1.8772 - val_accuracy: 0.2519\n",
            "Epoch 3/50\n",
            "448/448 [==============================] - 16s 36ms/step - loss: 0.2759 - accuracy: 0.2779 - val_loss: 1.7311 - val_accuracy: 0.2920\n",
            "Epoch 4/50\n",
            "448/448 [==============================] - 17s 37ms/step - loss: 0.2479 - accuracy: 0.3583 - val_loss: 1.5085 - val_accuracy: 0.4068\n",
            "Epoch 5/50\n",
            "448/448 [==============================] - 17s 37ms/step - loss: 0.2285 - accuracy: 0.4233 - val_loss: 1.4046 - val_accuracy: 0.4765\n",
            "Epoch 6/50\n",
            "448/448 [==============================] - 17s 38ms/step - loss: 0.2150 - accuracy: 0.4577 - val_loss: 1.3486 - val_accuracy: 0.4948\n",
            "Epoch 7/50\n",
            "448/448 [==============================] - 17s 38ms/step - loss: 0.2065 - accuracy: 0.4750 - val_loss: 1.2987 - val_accuracy: 0.5141\n",
            "Epoch 8/50\n",
            "448/448 [==============================] - 16s 36ms/step - loss: 0.2005 - accuracy: 0.4942 - val_loss: 1.3204 - val_accuracy: 0.5040\n",
            "Epoch 9/50\n",
            "448/448 [==============================] - 16s 36ms/step - loss: 0.1956 - accuracy: 0.5073 - val_loss: 1.2398 - val_accuracy: 0.5327\n",
            "Epoch 10/50\n",
            "448/448 [==============================] - 16s 36ms/step - loss: 0.1911 - accuracy: 0.5194 - val_loss: 1.2246 - val_accuracy: 0.5405\n",
            "Epoch 11/50\n",
            "448/448 [==============================] - 17s 37ms/step - loss: 0.1871 - accuracy: 0.5240 - val_loss: 1.2054 - val_accuracy: 0.5503\n",
            "Epoch 12/50\n",
            "448/448 [==============================] - 17s 39ms/step - loss: 0.1845 - accuracy: 0.5376 - val_loss: 1.1707 - val_accuracy: 0.5592\n",
            "Epoch 13/50\n",
            "448/448 [==============================] - 16s 36ms/step - loss: 0.1823 - accuracy: 0.5453 - val_loss: 1.1927 - val_accuracy: 0.5492\n",
            "Epoch 14/50\n",
            "448/448 [==============================] - 16s 36ms/step - loss: 0.1803 - accuracy: 0.5503 - val_loss: 1.1483 - val_accuracy: 0.5768\n",
            "Epoch 15/50\n",
            "448/448 [==============================] - 17s 38ms/step - loss: 0.1774 - accuracy: 0.5535 - val_loss: 1.1378 - val_accuracy: 0.5740\n",
            "Epoch 16/50\n",
            "448/448 [==============================] - 17s 38ms/step - loss: 0.1751 - accuracy: 0.5605 - val_loss: 1.1817 - val_accuracy: 0.5567\n",
            "Epoch 17/50\n",
            "448/448 [==============================] - 16s 36ms/step - loss: 0.1737 - accuracy: 0.5652 - val_loss: 1.1374 - val_accuracy: 0.5729\n",
            "Epoch 18/50\n",
            "448/448 [==============================] - 16s 36ms/step - loss: 0.1721 - accuracy: 0.5696 - val_loss: 1.1127 - val_accuracy: 0.5829\n",
            "Epoch 19/50\n",
            "448/448 [==============================] - 17s 39ms/step - loss: 0.1710 - accuracy: 0.5719 - val_loss: 1.1264 - val_accuracy: 0.5787\n",
            "Epoch 20/50\n",
            "448/448 [==============================] - 16s 37ms/step - loss: 0.1689 - accuracy: 0.5778 - val_loss: 1.1701 - val_accuracy: 0.5793\n",
            "Epoch 21/50\n",
            "448/448 [==============================] - 16s 36ms/step - loss: 0.1673 - accuracy: 0.5811 - val_loss: 1.1134 - val_accuracy: 0.5910\n",
            "Epoch 22/50\n",
            "448/448 [==============================] - 17s 37ms/step - loss: 0.1651 - accuracy: 0.5867 - val_loss: 1.1144 - val_accuracy: 0.5787\n",
            "Epoch 23/50\n",
            "448/448 [==============================] - 17s 37ms/step - loss: 0.1654 - accuracy: 0.5895 - val_loss: 1.1064 - val_accuracy: 0.5918\n",
            "Epoch 24/50\n",
            "448/448 [==============================] - 16s 36ms/step - loss: 0.1627 - accuracy: 0.5935 - val_loss: 1.1016 - val_accuracy: 0.5913\n",
            "Epoch 25/50\n",
            "448/448 [==============================] - 17s 38ms/step - loss: 0.1621 - accuracy: 0.5921 - val_loss: 1.1006 - val_accuracy: 0.5982\n",
            "Epoch 26/50\n",
            "448/448 [==============================] - 16s 36ms/step - loss: 0.1616 - accuracy: 0.5978 - val_loss: 1.0907 - val_accuracy: 0.6010\n",
            "Epoch 27/50\n",
            "448/448 [==============================] - 16s 37ms/step - loss: 0.1603 - accuracy: 0.6004 - val_loss: 1.0822 - val_accuracy: 0.5952\n",
            "Epoch 28/50\n",
            "448/448 [==============================] - 16s 37ms/step - loss: 0.1603 - accuracy: 0.5979 - val_loss: 1.1112 - val_accuracy: 0.5979\n",
            "Epoch 29/50\n",
            "448/448 [==============================] - 16s 36ms/step - loss: 0.1588 - accuracy: 0.6025 - val_loss: 1.0940 - val_accuracy: 0.5952\n",
            "Epoch 30/50\n",
            "448/448 [==============================] - 18s 39ms/step - loss: 0.1572 - accuracy: 0.6063 - val_loss: 1.0813 - val_accuracy: 0.6043\n",
            "Epoch 31/50\n",
            "448/448 [==============================] - 16s 36ms/step - loss: 0.1565 - accuracy: 0.6103 - val_loss: 1.0839 - val_accuracy: 0.6152\n",
            "Epoch 32/50\n",
            "448/448 [==============================] - 16s 36ms/step - loss: 0.1552 - accuracy: 0.6144 - val_loss: 1.0494 - val_accuracy: 0.6119\n",
            "Epoch 33/50\n",
            "448/448 [==============================] - 17s 38ms/step - loss: 0.1543 - accuracy: 0.6139 - val_loss: 1.0750 - val_accuracy: 0.6063\n",
            "Epoch 34/50\n",
            "448/448 [==============================] - 16s 36ms/step - loss: 0.1541 - accuracy: 0.6151 - val_loss: 1.0563 - val_accuracy: 0.6188\n",
            "Epoch 35/50\n",
            "448/448 [==============================] - 17s 37ms/step - loss: 0.1543 - accuracy: 0.6161 - val_loss: 1.0709 - val_accuracy: 0.6177\n",
            "Epoch 36/50\n",
            "448/448 [==============================] - 16s 35ms/step - loss: 0.1528 - accuracy: 0.6196 - val_loss: 1.0740 - val_accuracy: 0.6091\n",
            "Epoch 37/50\n",
            "448/448 [==============================] - 16s 36ms/step - loss: 0.1525 - accuracy: 0.6198 - val_loss: 1.0967 - val_accuracy: 0.6158\n",
            "Epoch 38/50\n",
            "448/448 [==============================] - 16s 37ms/step - loss: 0.1516 - accuracy: 0.6207 - val_loss: 1.0489 - val_accuracy: 0.6211\n",
            "Epoch 39/50\n",
            "448/448 [==============================] - 17s 39ms/step - loss: 0.1503 - accuracy: 0.6233 - val_loss: 1.0829 - val_accuracy: 0.6155\n",
            "Epoch 40/50\n",
            "448/448 [==============================] - 18s 39ms/step - loss: 0.1510 - accuracy: 0.6262 - val_loss: 1.0617 - val_accuracy: 0.6202\n",
            "Epoch 41/50\n",
            "448/448 [==============================] - 17s 38ms/step - loss: 0.1490 - accuracy: 0.6265 - val_loss: 1.0743 - val_accuracy: 0.6124\n",
            "Epoch 42/50\n",
            "448/448 [==============================] - 17s 38ms/step - loss: 0.1494 - accuracy: 0.6284 - val_loss: 1.0494 - val_accuracy: 0.6197\n",
            "Epoch 43/50\n",
            "448/448 [==============================] - 18s 40ms/step - loss: 0.1494 - accuracy: 0.6281 - val_loss: 1.0494 - val_accuracy: 0.6222\n",
            "Epoch 44/50\n",
            "448/448 [==============================] - 17s 37ms/step - loss: 0.1496 - accuracy: 0.6269 - val_loss: 1.0607 - val_accuracy: 0.6160\n",
            "Epoch 45/50\n",
            "448/448 [==============================] - 16s 36ms/step - loss: 0.1475 - accuracy: 0.6318 - val_loss: 1.0443 - val_accuracy: 0.6255\n",
            "Epoch 46/50\n",
            "448/448 [==============================] - 16s 36ms/step - loss: 0.1471 - accuracy: 0.6297 - val_loss: 1.0373 - val_accuracy: 0.6227\n",
            "Epoch 47/50\n",
            "448/448 [==============================] - 17s 37ms/step - loss: 0.1467 - accuracy: 0.6337 - val_loss: 1.0638 - val_accuracy: 0.6202\n",
            "Epoch 48/50\n",
            "448/448 [==============================] - 16s 36ms/step - loss: 0.1466 - accuracy: 0.6347 - val_loss: 1.0440 - val_accuracy: 0.6174\n",
            "Epoch 49/50\n",
            "448/448 [==============================] - 17s 37ms/step - loss: 0.1470 - accuracy: 0.6323 - val_loss: 1.0831 - val_accuracy: 0.6174\n",
            "Epoch 50/50\n",
            "448/448 [==============================] - 17s 37ms/step - loss: 0.1460 - accuracy: 0.6342 - val_loss: 1.0411 - val_accuracy: 0.6283\n"
          ]
        }
      ]
    },
    {
      "cell_type": "code",
      "source": [
        "test_loss, test_acc = model.evaluate(test_X, test_Y)\n",
        "test_acc"
      ],
      "metadata": {
        "colab": {
          "base_uri": "https://localhost:8080/"
        },
        "id": "Qx6UnMP4u_ns",
        "outputId": "947160ab-5467-4b8e-a847-48ec3c4aa1c1"
      },
      "execution_count": 32,
      "outputs": [
        {
          "output_type": "stream",
          "name": "stdout",
          "text": [
            "113/113 [==============================] - 1s 4ms/step - loss: 0.9937 - accuracy: 0.6314\n"
          ]
        },
        {
          "output_type": "execute_result",
          "data": {
            "text/plain": [
              "0.6313736438751221"
            ]
          },
          "metadata": {},
          "execution_count": 32
        }
      ]
    },
    {
      "cell_type": "code",
      "source": [
        "fig , ax = plt.subplots(1,2)\n",
        "fig.set_size_inches(20, 8)\n",
        "\n",
        "train_acc = history.history['accuracy']\n",
        "train_loss = history.history['loss']\n",
        "val_acc = history.history['val_accuracy']\n",
        "val_loss = history.history['val_loss']\n",
        "\n",
        "epochs = range(1, len(train_acc) + 1)\n",
        "\n",
        "ax[0].plot(epochs , train_acc , 'g-o' , label = 'Training Accuracy')\n",
        "ax[0].plot(epochs , val_acc , 'y-o' , label = 'Validation Accuracy')\n",
        "ax[0].set_title('Model Training & Validation Accuracy')\n",
        "ax[0].legend(loc = 'lower right')\n",
        "ax[0].set_xlabel(\"Epochs\")\n",
        "ax[0].set_ylabel(\"Accuracy\")\n",
        "\n",
        "ax[1].plot(epochs , train_loss , 'g-o' , label = 'Training Loss')\n",
        "ax[1].plot(epochs , val_loss , 'y-o' , label = 'Validation Loss')\n",
        "ax[1].set_title('Model Training & Validation & Loss')\n",
        "ax[1].legend()\n",
        "ax[1].set_xlabel(\"Epochs\")\n",
        "ax[1].set_ylabel(\"Loss\")\n",
        "\n",
        "plt.show()"
      ],
      "metadata": {
        "colab": {
          "base_uri": "https://localhost:8080/",
          "height": 300
        },
        "id": "iJdj6_d2vAFD",
        "outputId": "695dc611-b4e7-47a7-ad5d-5c26ec41da47"
      },
      "execution_count": 33,
      "outputs": [
        {
          "output_type": "display_data",
          "data": {
            "text/plain": [
              "<Figure size 1440x576 with 2 Axes>"
            ],
            "image/png": "[encoded data removed]"
          },
          "metadata": {
            "needs_background": "light"
          }
        }
      ]
    },
    {
      "cell_type": "code",
      "source": [
        "model.save('model')\n",
        "model.save('modelh5', save_format='h5')\n",
        "# model = keras.models.load_model(\"model\")"
      ],
      "metadata": {
        "colab": {
          "base_uri": "https://localhost:8080/"
        },
        "id": "ST0xcjfKvCIH",
        "outputId": "b02dfd63-bf1c-46bd-d4bf-bd80c094fdb9"
      },
      "execution_count": 34,
      "outputs": [
        {
          "output_type": "stream",
          "name": "stderr",
          "text": [
            "WARNING:absl:Found untraced functions such as _jit_compiled_convolution_op, _jit_compiled_convolution_op, _jit_compiled_convolution_op, _jit_compiled_convolution_op, _jit_compiled_convolution_op while saving (showing 5 of 7). These functions will not be directly callable after loading.\n"
          ]
        }
      ]
    },
    {
      "cell_type": "code",
      "source": [
        "#make prediction\n",
        "test_y = np.argmax(test_Y, axis=1)\n",
        "test_yhat = np.argmax(model.predict(test_X), axis=1)"
      ],
      "metadata": {
        "colab": {
          "base_uri": "https://localhost:8080/"
        },
        "id": "bNRFtcKivGPY",
        "outputId": "9ecefd94-14ff-4b89-e230-e182cc1b4e44"
      },
      "execution_count": 35,
      "outputs": [
        {
          "output_type": "stream",
          "name": "stdout",
          "text": [
            "113/113 [==============================] - 0s 3ms/step\n"
          ]
        }
      ]
    },
    {
      "cell_type": "code",
      "source": [
        "emotions = {\n",
        "    0: 'Angry',\n",
        "    1: 'Disgust',\n",
        "    2: 'Fear',\n",
        "    3: 'Happy',\n",
        "    4: 'Sad',\n",
        "    5: 'Suprise',\n",
        "    6: 'Neutral'\n",
        "}\n",
        "\n",
        "#get confusion matrix\n",
        "cm = confusion_matrix(test_y, test_yhat)\n",
        "print(cm)\n",
        "\n",
        "fig, ax = plot_confusion_matrix(conf_mat=cm,\n",
        "                                show_normed=True,\n",
        "                                show_absolute=False,\n",
        "                                class_names=emotions.values(),\n",
        "                                figsize=(8, 8))\n",
        "fig.show()"
      ],
      "metadata": {
        "colab": {
          "base_uri": "https://localhost:8080/",
          "height": 642
        },
        "id": "zOuCttAcvJG4",
        "outputId": "2e5849d5-fd70-49ff-f64e-2d3de5d1df90"
      },
      "execution_count": 36,
      "outputs": [
        {
          "output_type": "stream",
          "name": "stdout",
          "text": [
            "[[296   0  34  18  75   3  65]\n",
            " [ 35   0   5   4   8   2   1]\n",
            " [ 99   0 144  29 143  45  68]\n",
            " [ 18   0   8 803  19   9  22]\n",
            " [ 67   0  24  47 326   7 123]\n",
            " [ 19   0  52  46   9 275  15]\n",
            " [ 36   0  11  54  97   6 422]]\n"
          ]
        },
        {
          "output_type": "display_data",
          "data": {
            "text/plain": [
              "<Figure size 576x576 with 1 Axes>"
            ],
            "image/png": "[encoded data removed]"
          },
          "metadata": {
            "needs_background": "light"
          }
        }
      ]
    },
    {
      "cell_type": "code",
      "source": [
        "!zip -r /content/model_04.zip /content/model"
      ],
      "metadata": {
        "colab": {
          "base_uri": "https://localhost:8080/"
        },
        "id": "4ZuUxTKpwTj5",
        "outputId": "31d6422d-715b-4899-8edd-9ff977dd8756"
      },
      "execution_count": 37,
      "outputs": [
        {
          "output_type": "stream",
          "name": "stdout",
          "text": [
            "updating: content/model/ (stored 0%)\n",
            "updating: content/model/saved_model.pb (deflated 89%)\n",
            "updating: content/model/variables/ (stored 0%)\n",
            "updating: content/model/variables/variables.index (deflated 69%)\n",
            "updating: content/model/variables/variables.data-00000-of-00001 (deflated 12%)\n",
            "updating: content/model/keras_metadata.pb (deflated 93%)\n",
            "updating: content/model/assets/ (stored 0%)\n",
            "updating: content/model/fingerprint.pb (stored 0%)\n"
          ]
        }
      ]
    }
  ]
}